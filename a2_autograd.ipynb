{
  "nbformat": 4,
  "nbformat_minor": 0,
  "metadata": {
    "colab": {
      "provenance": [],
      "authorship_tag": "ABX9TyNGtdYlzGGFmr/J4SKi2MEB",
      "include_colab_link": true
    },
    "kernelspec": {
      "name": "python3",
      "display_name": "Python 3"
    },
    "language_info": {
      "name": "python"
    }
  },
  "cells": [
    {
      "cell_type": "markdown",
      "metadata": {
        "id": "view-in-github",
        "colab_type": "text"
      },
      "source": [
        "<a href=\"https://colab.research.google.com/github/eriksali/DNN_2023_DL/blob/main/a2_autograd.ipynb\" target=\"_parent\"><img src=\"https://colab.research.google.com/assets/colab-badge.svg\" alt=\"Open In Colab\"/></a>"
      ]
    },
    {
      "cell_type": "code",
      "execution_count": null,
      "metadata": {
        "id": "HfbW7zNz8zwb"
      },
      "outputs": [],
      "source": []
    },
    {
      "cell_type": "code",
      "source": [
        "## Q1\n",
        "## \n",
        "## To build a linear regression model \n",
        "##\n",
        "## learning_rate:     {1e-6, 1e-5, 1e-4}\n",
        "## polynomial_degree: {2, 3, 4}\n",
        "\n",
        "\n",
        "\n",
        "import numpy as np\n",
        "import math\n",
        "import matplotlib.pyplot as plt\n",
        "import numpy as np\n",
        "# if using a jupyter notebook\n",
        "%matplotlib inline    \n",
        "\n",
        "\n",
        "\n",
        "# Create random input and output data\n",
        "x = np.linspace(-math.pi, math.pi, 20)\n",
        "y = np.sin(x) + np.random.normal(0, 1, 20)\n",
        "\n",
        "# Randomly initialize weights\n",
        "a = np.random.randn()\n",
        "b = np.random.randn()\n",
        "c = np.random.randn()\n",
        "d = np.random.randn()\n",
        "e = np.random.randn()\n",
        "\n",
        "learning_rate = 1e-4\n",
        "for t in range(20):\n",
        "    # Forward pass: compute predicted y\n",
        "    # y = a + b x + c x^2 + d x^3\n",
        "    #y_pred = a + b * x + c * x ** 2\n",
        "    #y_pred = a + b * x + c * x ** 2 + d * x ** 3\n",
        "    y_pred = a + b * x + c * x ** 2 + d * x ** 3 + e * x ** 4\n",
        "\n",
        "    loss = np.square(y_pred - y).sum()\n",
        "\n",
        "    grad_y_pred = 2.0 * (y_pred - y)\n",
        "    grad_a = grad_y_pred.sum()\n",
        "    grad_b = (grad_y_pred * x).sum()\n",
        "    grad_c = (grad_y_pred * x ** 2).sum()\n",
        "    grad_d = (grad_y_pred * x ** 3).sum()\n",
        "    grad_e = (grad_y_pred * x ** 4).sum()\n",
        "\n",
        "    # Update weights\n",
        "    a -= learning_rate * grad_a\n",
        "    b -= learning_rate * grad_b\n",
        "    c -= learning_rate * grad_c\n",
        "    d -= learning_rate * grad_d\n",
        "    e -= learning_rate * grad_d\n",
        "\n",
        "#print(f'Result: y = {a} + {b} x + {c} x^2')\n",
        "#print(f'Result: y = {a} + {b} x + {c} x^2 + {d} x^3')\n",
        "print(f'Result: y = {a} + {b} x + {c} x^2 + {d} x^3 + {e} x^4')\n",
        "\n",
        "plt.plot(x, y_pred)\n",
        "plt.show()\n",
        "\n"
      ],
      "metadata": {
        "colab": {
          "base_uri": "https://localhost:8080/",
          "height": 283
        },
        "id": "XFmAl5rDpl-c",
        "outputId": "d81ca6d4-2e41-42fc-8458-511ce85d51ab"
      },
      "execution_count": null,
      "outputs": [
        {
          "output_type": "stream",
          "name": "stdout",
          "text": [
            "Result: y = -0.14695233446519113 + -0.5006634382650733 x + -2.7971451471335804 x^2 + 0.07750693781535295 x^3 + 0.3984491433107182 x^4\n"
          ]
        },
        {
          "output_type": "display_data",
          "data": {
            "text/plain": [
              "<Figure size 432x288 with 1 Axes>"
            ],
            "image/png": "[encoded data removed]"
          },
          "metadata": {
            "needs_background": "light"
          }
        }
      ]
    },
    {
      "cell_type": "code",
      "source": [
        "## Q2\n",
        "## \n",
        "## To build the model using the gradient search \n",
        "##\n",
        "## input:   fertilizers and insecticides\n",
        "## output:  predicted corn yield  \n",
        "\n",
        "import numpy as np \n",
        "from numpy import linalg as LA\n",
        "\n",
        "X = np.array([[6, 4], [10, 4], [12, 5], [14, 7], [16, 9], [18, 12], [22, 14], [24, 20], [26, 21], [32, 24]])\n",
        "Y = np.array([40, 44, 46, 48, 52, 58, 60, 68, 74, 80])\n",
        "\n",
        "alpha = 0.000075\n",
        "w_old = np.array([-0.5, 0.7])\n",
        "\n",
        "for i in range (5):\n",
        "  err = Y - np.matmul(w_old, X.T)\n",
        "  grad_old = -np.matmul(err, X)\n",
        "  w_new = w_old - alpha * grad_old\n",
        "  w_old = w_new\n",
        "\n",
        "# accept input of space seperated numbers\n",
        "list = input().split()\n",
        "\n",
        "for i in range(len(list)):\n",
        "  list[i] = int(list[i])\n",
        "\n",
        "arr = np.array(list)\n",
        "\n",
        "x = np.array([arr])\n",
        "\n",
        "y_pred = np.matmul(w_old, x.T)\n",
        "print(y_pred[0])\n"
      ],
      "metadata": {
        "colab": {
          "base_uri": "https://localhost:8080/"
        },
        "id": "aKB0DpfV83Ts",
        "outputId": "e04f24b7-dd43-4089-ab02-7ba4a2bc146a"
      },
      "execution_count": null,
      "outputs": [
        {
          "output_type": "stream",
          "name": "stdout",
          "text": [
            "22 15\n",
            "59.14763714091853\n"
          ]
        }
      ]
    },
    {
      "cell_type": "code",
      "source": [
        "## Q3\n",
        "## \n",
        "## The pseudo-inverse approach for the prediction model \n",
        "##\n",
        "## input:   fertilizers and insecticides\n",
        "## output:  predicted corn yield \n",
        "\n",
        "import numpy as np \n",
        "from numpy import linalg as LA\n",
        "\n",
        "X = np.array([[6, 4], [10, 4], [12, 5], [14, 7], [16, 9], [18, 12], [22, 14], [24, 20], [26, 21], [32, 24]])\n",
        "Y = np.array([40, 44, 46, 48, 52, 58, 60, 68, 74, 80])\n",
        "\n",
        "B = LA.lstsq(X,Y)\n",
        "\n",
        "# accept input of space seperated numbers\n",
        "list = input().split()\n",
        "\n",
        "for i in range(len(list)):\n",
        "  list[i] = int(list[i])\n",
        "\n",
        "arr = np.array(list)\n",
        "\n",
        "x = np.array([arr])\n",
        "y_pred = np.matmul(x, B[0])\n",
        "print(y_pred[0])\n"
      ],
      "metadata": {
        "colab": {
          "base_uri": "https://localhost:8080/"
        },
        "id": "vFbYXcF3fs5Q",
        "outputId": "2d242ecb-2664-4d88-8399-fa1869d5bd43"
      },
      "execution_count": null,
      "outputs": [
        {
          "output_type": "stream",
          "name": "stderr",
          "text": [
            "<ipython-input-38-787cdfa0f9d8>:14: FutureWarning: `rcond` parameter will change to the default of machine precision times ``max(M, N)`` where M and N are the input matrix dimensions.\n",
            "To use the future default and silence this warning we advise to pass `rcond=None`, to keep using the old, explicitly pass `rcond=-1`.\n",
            "  B = LA.lstsq(X,Y)\n"
          ]
        },
        {
          "output_type": "stream",
          "name": "stdout",
          "text": [
            "22 15\n",
            "65.91718272028655\n"
          ]
        }
      ]
    },
    {
      "cell_type": "code",
      "source": [
        "B"
      ],
      "metadata": {
        "id": "sMCj6bmxaifH",
        "outputId": "071513a9-48c8-4675-f377-dc2aba7bc16b",
        "colab": {
          "base_uri": "https://localhost:8080/"
        }
      },
      "execution_count": null,
      "outputs": [
        {
          "output_type": "execute_result",
          "data": {
            "text/plain": [
              "(array([ 4.80183541, -2.64821309]),\n",
              " array([763.78333209]),\n",
              " 2,\n",
              " array([75.64737694,  6.1216307 ]))"
            ]
          },
          "metadata": {},
          "execution_count": 39
        }
      ]
    },
    {
      "cell_type": "code",
      "source": [
        "## Q4\n",
        "## \n",
        "## To perform a recognition task using logistic regression with sklearn \n",
        "##\n",
        "\n",
        "import pandas as pd\n",
        "from sklearn.neighbors import KNeighborsClassifier\n",
        "from sklearn.linear_model import LogisticRegression\n",
        "from sklearn.model_selection import train_test_split\n",
        "\n",
        "import pandas as pd\n",
        "import gzip\n",
        "import numpy as np\n",
        "from sklearn import preprocessing\n",
        "from sklearn.model_selection import train_test_split\n",
        "\n",
        "filePath_train_set = './train-images-idx3-ubyte.gz'\n",
        "filePath_train_label = './train-labels-idx1-ubyte.gz'\n",
        "filePath_test_set = './t10k-images-idx3-ubyte.gz'\n",
        "filePath_test_label = './t10k-labels-idx1-ubyte.gz'\n",
        "\n",
        "with gzip.open(filePath_train_label, 'rb') as trainLbpath:\n",
        "     trainLabel = np.frombuffer(trainLbpath.read(), dtype=np.uint8,\n",
        "                               offset=8)\n",
        "with gzip.open(filePath_train_set, 'rb') as trainSetpath:\n",
        "     trainSet = np.frombuffer(trainSetpath.read(), dtype=np.uint8,\n",
        "                               offset=16).reshape(len(trainLabel), 784)\n",
        "with gzip.open(filePath_test_label, 'rb') as testLbpath:\n",
        "     testLabel = np.frombuffer(testLbpath.read(), dtype=np.uint8,\n",
        "                               offset=8)\n",
        "with gzip.open(filePath_test_set, 'rb') as testSetpath:\n",
        "     testSet = np.frombuffer(testSetpath.read(), dtype=np.uint8,\n",
        "                               offset=16).reshape(len(testLabel), 784)\n",
        "\n",
        "\n",
        "##X_train, X_test, y_train, y_test = train_test_split(trainSet, trainLabel, test_size = 0.2, random_state=None)\n",
        "X_train, X_test, y_train, y_test = trainSet, testSet, trainLabel, testLabel\n",
        "\n",
        "logi_regr = LogisticRegression(random_state=None)\n",
        "logi_regr.fit(X_train, y_train)\n",
        "y_pred = logi_regr.predict(X_test)\n",
        "\n",
        "# compute accuracy of the model\n",
        "logi_regr.score(X_test, y_test)\n",
        "\n",
        "# Create a confusion matrix\n",
        "from sklearn.metrics import confusion_matrix \n",
        "cm = confusion_matrix(y_test, y_pred)\n",
        "\n",
        "# Plot the confusion matrix\n",
        "import matplotlib.pyplot as plt\n",
        "from sklearn.metrics import plot_confusion_matrix\n",
        "from sklearn import metrics\n",
        "\n",
        "confusion_matrix = metrics.confusion_matrix(y_test, y_pred)\n",
        "cm_display = metrics.ConfusionMatrixDisplay(confusion_matrix = confusion_matrix)\n",
        "cm_display.plot()\n",
        "plt.show()\n",
        "\n",
        "# Run the classification report\n",
        "from sklearn.metrics import classification_report\n",
        "print(classification_report(y_test, y_pred))\n"
      ],
      "metadata": {
        "colab": {
          "base_uri": "https://localhost:8080/",
          "height": 736
        },
        "id": "c-QMdmCRDHTJ",
        "outputId": "f03aa96e-8218-4088-ca51-5d69f30b8e0c"
      },
      "execution_count": null,
      "outputs": [
        {
          "output_type": "stream",
          "name": "stderr",
          "text": [
            "/usr/local/lib/python3.8/dist-packages/sklearn/linear_model/_logistic.py:814: ConvergenceWarning: lbfgs failed to converge (status=1):\n",
            "STOP: TOTAL NO. of ITERATIONS REACHED LIMIT.\n",
            "\n",
            "Increase the number of iterations (max_iter) or scale the data as shown in:\n",
            "    https://scikit-learn.org/stable/modules/preprocessing.html\n",
            "Please also refer to the documentation for alternative solver options:\n",
            "    https://scikit-learn.org/stable/modules/linear_model.html#logistic-regression\n",
            "  n_iter_i = _check_optimize_result(\n"
          ]
        },
        {
          "output_type": "display_data",
          "data": {
            "text/plain": [
              "<Figure size 432x288 with 2 Axes>"
            ],
            "image/png": "[encoded data removed]"
          },
          "metadata": {
            "needs_background": "light"
          }
        },
        {
          "output_type": "stream",
          "name": "stdout",
          "text": [
            "              precision    recall  f1-score   support\n",
            "\n",
            "           0       0.81      0.81      0.81      1000\n",
            "           1       0.97      0.96      0.96      1000\n",
            "           2       0.73      0.74      0.73      1000\n",
            "           3       0.84      0.86      0.85      1000\n",
            "           4       0.71      0.78      0.74      1000\n",
            "           5       0.94      0.89      0.92      1000\n",
            "           6       0.64      0.55      0.59      1000\n",
            "           7       0.90      0.93      0.92      1000\n",
            "           8       0.93      0.95      0.94      1000\n",
            "           9       0.93      0.94      0.94      1000\n",
            "\n",
            "    accuracy                           0.84     10000\n",
            "   macro avg       0.84      0.84      0.84     10000\n",
            "weighted avg       0.84      0.84      0.84     10000\n",
            "\n"
          ]
        }
      ]
    },
    {
      "cell_type": "code",
      "source": [
        "## Q5\n",
        "## \n",
        "## To perform a recognition task using k-NN classifier \n",
        "##\n",
        "## k = {3, 5, 7}\n",
        "\n",
        "\n",
        "import pandas as pd\n",
        "from sklearn.neighbors import KNeighborsClassifier\n",
        "from sklearn.model_selection import train_test_split\n",
        "import gzip\n",
        "import numpy as np\n",
        "from sklearn import preprocessing\n",
        "from sklearn.model_selection import train_test_split\n",
        "\n",
        "filePath_train_set = './train-images-idx3-ubyte.gz'\n",
        "filePath_train_label = './train-labels-idx1-ubyte.gz'\n",
        "filePath_test_set = './t10k-images-idx3-ubyte.gz'\n",
        "filePath_test_label = './t10k-labels-idx1-ubyte.gz'\n",
        "\n",
        "with gzip.open(filePath_train_label, 'rb') as trainLbpath:\n",
        "     trainLabel = np.frombuffer(trainLbpath.read(), dtype=np.uint8,\n",
        "                               offset=8)\n",
        "with gzip.open(filePath_train_set, 'rb') as trainSetpath:\n",
        "     trainSet = np.frombuffer(trainSetpath.read(), dtype=np.uint8,\n",
        "                               offset=16).reshape(len(trainLabel), 784)\n",
        "with gzip.open(filePath_test_label, 'rb') as testLbpath:\n",
        "     testLabel = np.frombuffer(testLbpath.read(), dtype=np.uint8,\n",
        "                               offset=8)\n",
        "with gzip.open(filePath_test_set, 'rb') as testSetpath:\n",
        "     testSet = np.frombuffer(testSetpath.read(), dtype=np.uint8,\n",
        "                               offset=16).reshape(len(testLabel), 784)\n",
        "\n",
        "X_train, X_test, y_train, y_test = trainSet, testSet, trainLabel, testLabel\n",
        "\n",
        "# train the model\n",
        "knn = KNeighborsClassifier(n_neighbors=7)\n",
        "knn.fit(X_train, y_train)\n",
        "y_pred = knn.predict(X_test)\n",
        " \n",
        "# compute accuracy of the model\n",
        "knn.score(X_test, y_test)\n",
        "\n",
        "# Create a confusion matrix\n",
        "from sklearn.metrics import confusion_matrix\n",
        " \n",
        "cm = confusion_matrix(y_test, y_pred)\n",
        "\n",
        "# Plot the confusion matrix\n",
        "import matplotlib.pyplot as plt\n",
        "from sklearn.metrics import plot_confusion_matrix\n",
        "from sklearn import metrics\n",
        "\n",
        "confusion_matrix = metrics.confusion_matrix(y_test, y_pred)\n",
        "cm_display = metrics.ConfusionMatrixDisplay(confusion_matrix = confusion_matrix)\n",
        "cm_display.plot()\n",
        "plt.show()\n",
        "\n",
        "# Run the classification report\n",
        "from sklearn.metrics import classification_report\n",
        "print(classification_report(y_test, y_pred))\n",
        "\n"
      ],
      "metadata": {
        "colab": {
          "base_uri": "https://localhost:8080/",
          "height": 590
        },
        "id": "7Bmi8_BnDHoe",
        "outputId": "74e3da42-90a0-4b4e-afcf-118fcb08864b"
      },
      "execution_count": null,
      "outputs": [
        {
          "output_type": "display_data",
          "data": {
            "text/plain": [
              "<Figure size 432x288 with 2 Axes>"
            ],
            "image/png": "[encoded data removed]"
          },
          "metadata": {
            "needs_background": "light"
          }
        },
        {
          "output_type": "stream",
          "name": "stdout",
          "text": [
            "              precision    recall  f1-score   support\n",
            "\n",
            "           0       0.78      0.86      0.82      1000\n",
            "           1       0.99      0.97      0.98      1000\n",
            "           2       0.73      0.81      0.77      1000\n",
            "           3       0.90      0.87      0.89      1000\n",
            "           4       0.79      0.76      0.77      1000\n",
            "           5       1.00      0.81      0.89      1000\n",
            "           6       0.65      0.59      0.62      1000\n",
            "           7       0.87      0.96      0.91      1000\n",
            "           8       0.97      0.95      0.96      1000\n",
            "           9       0.89      0.97      0.93      1000\n",
            "\n",
            "    accuracy                           0.85     10000\n",
            "   macro avg       0.86      0.85      0.85     10000\n",
            "weighted avg       0.86      0.85      0.85     10000\n",
            "\n"
          ]
        }
      ]
    }
  ]
}
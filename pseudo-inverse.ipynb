{
  "nbformat": 4,
  "nbformat_minor": 0,
  "metadata": {
    "colab": {
      "provenance": [],
      "authorship_tag": "ABX9TyO0ShfEerIXsmc+D6CR8ogE",
      "include_colab_link": true
    },
    "kernelspec": {
      "name": "python3",
      "display_name": "Python 3"
    },
    "language_info": {
      "name": "python"
    }
  },
  "cells": [
    {
      "cell_type": "markdown",
      "metadata": {
        "id": "view-in-github",
        "colab_type": "text"
      },
      "source": [
        "<a href=\"https://colab.research.google.com/github/eriksali/DNN_2023_DL/blob/main/pseudo-inverse.ipynb\" target=\"_parent\"><img src=\"https://colab.research.google.com/assets/colab-badge.svg\" alt=\"Open In Colab\"/></a>"
      ]
    },
    {
      "cell_type": "code",
      "execution_count": null,
      "metadata": {
        "id": "HfbW7zNz8zwb"
      },
      "outputs": [],
      "source": []
    },
    {
      "cell_type": "code",
      "source": [
        "##\n",
        "## Q2\n",
        "## \n",
        "## To build the model using the gradient search \n",
        "##\n",
        "\n",
        "import numpy as np \n",
        "from numpy import linalg as LA\n",
        "\n",
        "X = np.array([[6, 4], [10, 4], [12, 5], [14, 7], [16, 9], [18, 12], [22, 14], [24, 20], [26, 21], [32, 24]])\n",
        "Y = np.array([40, 44, 46, 48, 52, 58, 60, 68, 74, 80])\n",
        "\n",
        "alpha = 0.000075\n",
        "w_old = np.array([-0.5, 0.7])\n",
        "\n",
        "for i in range (5):\n",
        "  err = Y - np.matmul(w_old, X.T)\n",
        "  grad_old = -np.matmul(err, X)\n",
        "  w_new = w_old - alpha * grad_old\n",
        "  w_old = w_new\n",
        "\n",
        "\n",
        "# input:   fertilizers and insecticides\n",
        "# output:  predicted corn yield  \n",
        "\n",
        "list = input().split()\n",
        "\n",
        "for i in range(len(list)):\n",
        "  list[i] = int(list[i])\n",
        "\n",
        "arr = np.array(list)\n",
        "\n",
        "x = np.array([arr])\n",
        "#print(x[0])\n",
        "\n",
        "\n",
        "y_pred = np.matmul(w_old, x.T)\n",
        "print(\"predicted corn yield: \" + str(y_pred[0]))\n"
      ],
      "metadata": {
        "colab": {
          "base_uri": "https://localhost:8080/"
        },
        "id": "aKB0DpfV83Ts",
        "outputId": "9f431aad-f571-468e-93f8-ac1d9396d29d"
      },
      "execution_count": 4,
      "outputs": [
        {
          "output_type": "stream",
          "name": "stdout",
          "text": [
            "22 15\n",
            "predicted corn yield: 59.14763714091853\n"
          ]
        }
      ]
    },
    {
      "cell_type": "code",
      "source": [
        "##\n",
        "## Q3\n",
        "## \n",
        "## The pseudo-inverse approach and determine the prediction model \n",
        "##\n",
        "\n",
        "import numpy as np \n",
        "from numpy import linalg as LA\n",
        "\n",
        "X = np.array([[6, 4], [10, 4], [12, 5], [14, 7], [16, 9], [18, 12], [22, 14], [24, 20], [26, 21], [32, 24]])\n",
        "Y = np.array([40, 44, 46, 48, 52, 58, 60, 68, 74, 80])\n",
        "\n",
        "B = LA.lstsq(X,Y)\n",
        "#print(B[0])\n",
        "ypred = np.matmul(X, B[0])\n",
        "#print(ypred)\n",
        "\n",
        "\n",
        "list = input().split()\n",
        "\n",
        "for i in range(len(list)):\n",
        "  list[i] = int(list[i])\n",
        "\n",
        "arr = np.array(list)\n",
        "\n",
        "x = np.array([arr])\n",
        "# print(x[0])\n",
        "y_pred = np.matmul(x, B[0])\n",
        "print(\"predicted corn yield: \" + str(y_pred[0]))\n"
      ],
      "metadata": {
        "colab": {
          "base_uri": "https://localhost:8080/"
        },
        "id": "vFbYXcF3fs5Q",
        "outputId": "5d000d6a-f17c-4150-d90a-267159ea17cb"
      },
      "execution_count": 7,
      "outputs": [
        {
          "output_type": "stream",
          "name": "stderr",
          "text": [
            "<ipython-input-7-ba60138960c4>:15: FutureWarning: `rcond` parameter will change to the default of machine precision times ``max(M, N)`` where M and N are the input matrix dimensions.\n",
            "To use the future default and silence this warning we advise to pass `rcond=None`, to keep using the old, explicitly pass `rcond=-1`.\n",
            "  B = LA.lstsq(X,Y)\n"
          ]
        },
        {
          "output_type": "stream",
          "name": "stdout",
          "text": [
            "22 15\n",
            "predicted corn yield: 65.91718272028655\n"
          ]
        }
      ]
    }
  ]
}
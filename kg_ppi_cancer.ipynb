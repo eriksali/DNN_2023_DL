{
  "nbformat": 4,
  "nbformat_minor": 0,
  "metadata": {
    "colab": {
      "provenance": [],
      "authorship_tag": "ABX9TyO2r0pfCKg36w+qydJqgFf4",
      "include_colab_link": true
    },
    "kernelspec": {
      "name": "python3",
      "display_name": "Python 3"
    },
    "language_info": {
      "name": "python"
    }
  },
  "cells": [
    {
      "cell_type": "markdown",
      "metadata": {
        "id": "view-in-github",
        "colab_type": "text"
      },
      "source": [
        "<a href=\"https://colab.research.google.com/github/eriksali/DNN_2023_DL/blob/main/kg_ppi_cancer.ipynb\" target=\"_parent\"><img src=\"https://colab.research.google.com/assets/colab-badge.svg\" alt=\"Open In Colab\"/></a>"
      ]
    },
    {
      "cell_type": "code",
      "execution_count": null,
      "metadata": {
        "id": "ISXEl0ARcqYn"
      },
      "outputs": [],
      "source": []
    },
    {
      "cell_type": "code",
      "source": [
        "!pip install neo4j py2neo"
      ],
      "metadata": {
        "id": "fiUWtFmRczNC"
      },
      "execution_count": null,
      "outputs": []
    },
    {
      "cell_type": "code",
      "source": [
        "import pandas as pd\n",
        "from py2neo import Graph, Node, Relationship\n",
        "\n",
        "# Connect to Neo4j\n",
        "graph = Graph(\"neo4j+s://ef67c00f.databases.neo4j.io\", auth=(\"neo4j\", \"lz9BSl0i9jJ2XJyLIN3oqH54M-GQBLmU3YMxnITWsrs\"))\n",
        "\n",
        "# Read data from kg_giant_no_disease.csv\n",
        "df = pd.read_csv('kg_giant_cancer_protein.csv', low_memory=False)\n",
        "\n",
        "# Function to create or get a node\n",
        "def get_or_create_node(label, name, source):\n",
        "    # Check if the node exists\n",
        "    query = f\"MATCH (n:{label}) WHERE n.name = $name AND n.source = $source RETURN n\"\n",
        "    result = graph.run(query, name=name, source=source)\n",
        "    existing_node = result.data()\n",
        "\n",
        "    if existing_node:\n",
        "        return existing_node[0]['n']\n",
        "    else:\n",
        "        # Create a new node\n",
        "        node = Node(label, name=name, source=source)\n",
        "        graph.create(node)\n",
        "        return node\n",
        "\n",
        "# Iterate over rows and create nodes and relationships\n",
        "for _, row in df.iterrows():\n",
        "    # Get or create nodes\n",
        "    x_node = get_or_create_node(row['x_type'], row['x_name'], row['x_source'])\n",
        "    y_node = get_or_create_node(row['y_type'], row['y_name'], row['y_source'])\n",
        "\n",
        "    # Create relationship with the value from the display_relation column\n",
        "    relationship = Relationship(x_node, row['display_relation'], y_node)\n",
        "\n",
        "    # Merge relationship\n",
        "    graph.merge(relationship)\n"
      ],
      "metadata": {
        "id": "j8h7E3l8c0IK"
      },
      "execution_count": null,
      "outputs": []
    },
    {
      "cell_type": "code",
      "source": [
        "import pandas as pd\n",
        "from py2neo import Graph, Node, Relationship\n",
        "\n",
        "# Connect to Neo4j\n",
        "graph = Graph(\"neo4j+s://ef67c00f.databases.neo4j.io\", auth=(\"neo4j\", \"lz9BSl0i9jJ2XJyLIN3oqH54M-GQBLmU3YMxnITWsrs\"))\n",
        "\n",
        "# Read data from kg_giant_no_disease.csv\n",
        "df = pd.read_csv('kg_giant_pathway_pathway.csv', low_memory=False)\n",
        "\n",
        "# Function to create or get a node\n",
        "def get_or_create_node(label, name, source):\n",
        "    # Check if the node exists\n",
        "    query = f\"MATCH (n:{label}) WHERE n.name = $name AND n.source = $source RETURN n\"\n",
        "    result = graph.run(query, name=name, source=source)\n",
        "    existing_node = result.data()\n",
        "\n",
        "    if existing_node:\n",
        "        return existing_node[0]['n']\n",
        "    else:\n",
        "        # Create a new node\n",
        "        node = Node(label, name=name, source=source)\n",
        "        graph.create(node)\n",
        "        return node\n",
        "\n",
        "# Iterate over rows and create nodes and relationships\n",
        "for _, row in df.iterrows():\n",
        "    # Get or create nodes\n",
        "    x_node = get_or_create_node(row['x_type'], row['x_name'], row['x_source'])\n",
        "    y_node = get_or_create_node(row['y_type'], row['y_name'], row['y_source'])\n",
        "\n",
        "    # Create relationship\n",
        "    relationship = Relationship(x_node, row['relation'], y_node, display_relation=row['display_relation'])\n",
        "\n",
        "    # Merge relationship\n",
        "    graph.merge(relationship)\n"
      ],
      "metadata": {
        "id": "S0Oy_IeZzgt3"
      },
      "execution_count": null,
      "outputs": []
    }
  ]
}
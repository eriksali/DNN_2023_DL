{
  "nbformat": 4,
  "nbformat_minor": 0,
  "metadata": {
    "colab": {
      "provenance": [],
      "authorship_tag": "ABX9TyMxb+cHpDGwAI6zS/mzQQ00",
      "include_colab_link": true
    },
    "kernelspec": {
      "name": "python3",
      "display_name": "Python 3"
    },
    "language_info": {
      "name": "python"
    },
    "accelerator": "GPU",
    "gpuClass": "standard"
  },
  "cells": [
    {
      "cell_type": "markdown",
      "metadata": {
        "id": "view-in-github",
        "colab_type": "text"
      },
      "source": [
        "<a href=\"https://colab.research.google.com/github/eriksali/DNN_2023_DL/blob/main/gpu_adversarial_robustness_random_smothing.ipynb\" target=\"_parent\"><img src=\"https://colab.research.google.com/assets/colab-badge.svg\" alt=\"Open In Colab\"/></a>"
      ]
    },
    {
      "cell_type": "code",
      "execution_count": null,
      "metadata": {
        "id": "rwfk2XXoo4ig"
      },
      "outputs": [],
      "source": []
    },
    {
      "cell_type": "code",
      "source": [
        "!pip install setGPU\n",
        "!mkdir output\n",
        "##!unzip cifar10.zip\n",
        "!unzip smoothing.zip\n"
      ],
      "metadata": {
        "id": "uByEtfC1pIdK"
      },
      "execution_count": null,
      "outputs": []
    },
    {
      "cell_type": "code",
      "source": [
        "\n",
        "##model=\"cifar10/resnet110/noise_0.25/checkpoint.pth.tar\"\n",
        "model=\"checkpoint.pth.tar\"\n",
        "output=\"output_0.12.txt\"\n",
        "!python smoothing/code/certify.py cifar10 $model 0.12 $output --skip 20 --batch 400"
      ],
      "metadata": {
        "colab": {
          "base_uri": "https://localhost:8080/"
        },
        "id": "ssog0oaQpIiZ",
        "outputId": "b8819b4f-6f3b-4116-ca9c-2ef38e708aef"
      },
      "execution_count": 2,
      "outputs": [
        {
          "output_type": "stream",
          "name": "stdout",
          "text": [
            "setGPU: Setting GPU to: 0\n",
            "Downloading https://www.cs.toronto.edu/~kriz/cifar-10-python.tar.gz to ./dataset_cache/cifar-10-python.tar.gz\n",
            "100% 170498071/170498071 [00:02<00:00, 80815936.02it/s]\n",
            "Extracting ./dataset_cache/cifar-10-python.tar.gz to ./dataset_cache\n",
            "Traceback (most recent call last):\n",
            "  File \"/content/smoothing/code/certify.py\", line 54, in <module>\n",
            "    prediction, radius = smoothed_classifier.certify(x, args.N0, args.N, args.alpha, args.batch)\n",
            "  File \"/content/smoothing/code/core.py\", line 43, in certify\n",
            "    counts_estimation = self._sample_noise(x, n, batch_size)\n",
            "  File \"/content/smoothing/code/core.py\", line 93, in _sample_noise\n",
            "    counts += self._count_arr(predictions.cpu().numpy(), self.num_classes)\n",
            "KeyboardInterrupt\n",
            "^C\n"
          ]
        }
      ]
    },
    {
      "cell_type": "code",
      "source": [],
      "metadata": {
        "id": "NhSJdGpIpImE"
      },
      "execution_count": null,
      "outputs": []
    }
  ]
}
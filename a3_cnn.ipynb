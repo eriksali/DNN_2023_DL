{
  "nbformat": 4,
  "nbformat_minor": 0,
  "metadata": {
    "colab": {
      "provenance": [],
      "authorship_tag": "ABX9TyMUuqTdl+YA5LoBzWbNCxuY",
      "include_colab_link": true
    },
    "kernelspec": {
      "name": "python3",
      "display_name": "Python 3"
    },
    "language_info": {
      "name": "python"
    }
  },
  "cells": [
    {
      "cell_type": "markdown",
      "metadata": {
        "id": "view-in-github",
        "colab_type": "text"
      },
      "source": [
        "<a href=\"https://colab.research.google.com/github/eriksali/DNN_2023_DL/blob/main/a3_cnn.ipynb\" target=\"_parent\"><img src=\"https://colab.research.google.com/assets/colab-badge.svg\" alt=\"Open In Colab\"/></a>"
      ]
    },
    {
      "cell_type": "code",
      "execution_count": null,
      "metadata": {
        "id": "N1OWmhrYckcK"
      },
      "outputs": [],
      "source": []
    },
    {
      "cell_type": "code",
      "source": [
        "import torch\n",
        "import torchvision\n",
        "import torchvision.transforms as transforms\n",
        "import torch\n",
        "import torchvision\n",
        "import torchvision.transforms as transforms\n",
        "import numpy as np\n",
        "import matplotlib.pyplot as plt\n",
        "from sklearn.metrics import confusion_matrix\n",
        "\n",
        "# Load the Fashion-MNIST dataset\n",
        "train_dataset = torchvision.datasets.FashionMNIST(root='./data', train=True, download=True, transform=transforms.ToTensor())\n",
        "test_dataset = torchvision.datasets.FashionMNIST(root='./data', train=False, download=True, transform=transforms.ToTensor())\n",
        "\n",
        "# Create data loaders\n",
        "train_loader = torch.utils.data.DataLoader(train_dataset, batch_size=32, shuffle=True)\n",
        "test_loader = torch.utils.data.DataLoader(test_dataset, batch_size=32, shuffle=False)\n",
        "\n",
        "\n",
        "from torchvision import datasets, transforms\n",
        "from torch.utils.data import Subset, DataLoader\n",
        "\n",
        "# Select 5 classes: T-shirt/top, Trouser, Pullover, Dress, Coat\n",
        "selected_classes = [0, 1, 2, 3, 4]\n",
        "\n",
        "##original_dataset = datasets.FashionMNIST(root='./data', train=True, download=True, transform=transforms.ToTensor())\n",
        "\n",
        "# Create a custom subset that contains only the selected classes\n",
        "selected_indices = []\n",
        "for i in range(len(train_dataset)):\n",
        "    _, label = train_dataset[i]\n",
        "    if label in selected_classes:\n",
        "        selected_indices.append(i)\n",
        "\n",
        "selected_train_dataset = Subset(train_dataset, selected_indices)\n",
        "\n",
        "batch_size = 64\n",
        "selected_train_loader = DataLoader(selected_train_dataset, batch_size=batch_size, shuffle=True)\n",
        "\n",
        "##original_testset = datasets.FashionMNIST(root='./data', train=True, download=True, transform=transforms.ToTensor())\n",
        "\n",
        "# Create a custom subset that contains only the selected classes\n",
        "selected_indices = []\n",
        "for i in range(len(test_dataset)):\n",
        "    _, label = test_dataset[i]\n",
        "    if label in selected_classes:\n",
        "        selected_indices.append(i)\n",
        "\n",
        "selected_test_dataset = Subset(test_dataset, selected_indices)\n",
        "import random\n",
        "# Select a random subset of 100 images from the test dataset\n",
        "test_subset_indices = random.sample(range(len(selected_test_dataset)), k=100)\n",
        "test_subset = Subset(selected_test_dataset, test_subset_indices)\n",
        "\n",
        "\n",
        "batch_size = 64\n",
        "selected_test_loader = DataLoader(test_subset, batch_size=batch_size, shuffle=True)\n",
        "\n",
        "# Define function to flip images horizontally or vertically\n",
        "def flip_images(images, mode='horizontal'):\n",
        "    if mode == 'horizontal':\n",
        "        return torch.flip(images, dims=[3])\n",
        "    elif mode == 'vertical':\n",
        "        return torch.flip(images, dims=[2])\n",
        "    else:\n",
        "        raise ValueError(\"Invalid mode\")\n",
        "\n",
        "# Flip test images vertically and measure accuracy\n",
        "test_subset_flipped_vertical = [(flip_images(images, mode='vertical'), labels) for images, labels in test_subset]\n",
        "test_loader_flipped_vertical = torch.utils.data.DataLoader(test_subset_flipped_vertical, batch_size)\n",
        "\n",
        "\n",
        "import torch.nn as nn\n",
        "import torch.nn.functional as F\n",
        "\n",
        "\n",
        "class Net(nn.Module):\n",
        "    def __init__(self):\n",
        "        super(Net, self).__init__()\n",
        "        \n",
        "        # Define convolutional layers\n",
        "        self.conv1 = nn.Conv2d(1, 6, 3)  # input_channel=1, output_channel=6, kernel_size=3\n",
        "        self.pool1 = nn.AvgPool2d(2, 2) # kernel_size=2, stride=2\n",
        "        self.conv2 = nn.Conv2d(6, 16, 3) # input_channel=6, output_channel=16, kernel_size=3\n",
        "        self.pool2 = nn.AvgPool2d(2, 2) # kernel_size=2, stride=2\n",
        "        \n",
        "        # Define fully connected layers\n",
        "        self.fc1 = nn.Linear(16 * 5 * 5, 120) # input_size=16*5*5, output_size=120\n",
        "        self.fc2 = nn.Linear(120, 84)         # input_size=120, output_size=84\n",
        "        self.fc3 = nn.Linear(84, 5)           # input_size=84, output_size=4\n",
        "\n",
        "    def forward(self, x):\n",
        "        # Apply convolutional layers with activation functions and pooling layers\n",
        "        x = nn.functional.relu(self.conv1(x))\n",
        "        x = self.pool1(x)\n",
        "        x = nn.functional.relu(self.conv2(x))\n",
        "        x = self.pool2(x)\n",
        "        \n",
        "        # Flatten output from convolutional layers\n",
        "        x = torch.flatten(x, 1)\n",
        "        \n",
        "        # Apply fully connected layers with activation functions\n",
        "        x = nn.functional.relu(self.fc1(x))\n",
        "        x = nn.functional.relu(self.fc2(x))\n",
        "        x = self.fc3(x)\n",
        "        \n",
        "        return x\n",
        "\n",
        "\n",
        "\n",
        "net = Net()\n",
        "\n",
        "import torch.optim as optim\n",
        "\n",
        "criterion = nn.CrossEntropyLoss()\n",
        "optimizer = optim.SGD(net.parameters(), lr=0.001, momentum=0.9)\n",
        "\n",
        "for epoch in range(5):  # loop over the dataset multiple times\n",
        "\n",
        "    running_loss = 0.0\n",
        "    for i, data in enumerate(selected_train_loader, 0):\n",
        "        inputs, labels = data\n",
        "\n",
        "        optimizer.zero_grad()\n",
        "\n",
        "        outputs = net(inputs)\n",
        "        loss = criterion(outputs, labels)\n",
        "        loss.backward()\n",
        "        optimizer.step()\n",
        "\n",
        "        running_loss += loss.item()\n",
        "        if i % 200 == 199:    # print every 200 mini-batches\n",
        "            print('[%d, %5d] loss: %.3f' %\n",
        "                  (epoch + 1, i + 1, running_loss / 200))\n",
        "            running_loss = 0.0\n",
        "\n",
        "# Extract the weights of the filters in both convolutional layers\n",
        "conv1_weights = net.conv1.weight.detach().clone()\n",
        "conv2_weights = net.conv2.weight.detach().clone()\n",
        "\n",
        "import matplotlib.pyplot as plt\n",
        "\n",
        "# Define the function to extract and visualize the weights of the filters\n",
        "def visualize_filters(net):\n",
        "    conv1_weights = net.conv1.weight.detach().cpu().numpy()\n",
        "    conv2_weights = net.conv2.weight.detach().cpu().numpy()\n",
        "\n",
        "    fig, axs = plt.subplots(2, 3, figsize=(5,5))\n",
        "    fig.suptitle('Conv1 Weights')\n",
        "    for i in range(2):\n",
        "        for j in range(3):\n",
        "            axs[i, j].imshow(conv1_weights[i*3+j][0], cmap='gray')\n",
        "            #axs[i, j].axis('off')\n",
        "\n",
        "    fig, axs = plt.subplots(4, 4, figsize=(7,7))\n",
        "    fig.suptitle('Conv2 Weights')\n",
        "    for i in range(4):\n",
        "        for j in range(4):\n",
        "            axs[i, j].imshow(conv2_weights[i*4+j][0], cmap='gray')\n",
        "            #axs[i, j].axis('off')\n",
        "\n",
        "visualize_filters(net)\n",
        "\n",
        "path = F\"/content/cnn_model_5.pt\" \n",
        "torch.save(net.state_dict(), path)\n",
        "\n",
        "predictions = []\n",
        "true_labels = []\n",
        "with torch.no_grad():\n",
        "    for inputs, labels in test_loader_flipped_vertical:\n",
        "    ##for inputs, labels in selected_test_loader:\n",
        "        outputs = net(inputs)\n",
        "        _, predicted = torch.max(outputs, 1)\n",
        "        predictions.append(predicted)\n",
        "        true_labels.append(labels)\n",
        "\n",
        "predictions = torch.cat(predictions, dim=0)\n",
        "true_labels = torch.cat(true_labels, dim=0)\n",
        "\n",
        "from sklearn.metrics import confusion_matrix\n",
        "import matplotlib.pyplot as plt\n",
        "import seaborn as sns\n",
        "\n",
        "# Generate the confusion matrix\n",
        "cm = confusion_matrix(true_labels, predictions, labels=selected_classes)\n",
        "\n",
        "plt.figure(figsize=(5, 4))\n",
        "#sns.set(font_scale=1.2)\n",
        "sns.heatmap(cm, annot=True, cmap='Blues', fmt='g', xticklabels=selected_classes, yticklabels=selected_classes)\n",
        "plt.xlabel('Predicted Labels')\n",
        "plt.ylabel('True Labels')\n",
        "plt.title('Confusion Matrix')\n",
        "plt.show()\n",
        "\n"
      ],
      "metadata": {
        "colab": {
          "base_uri": "https://localhost:8080/",
          "height": 1000
        },
        "id": "JoIZxHKSclIl",
        "outputId": "26f41dbc-08a4-474a-bd17-53bdcce1429d"
      },
      "execution_count": 3,
      "outputs": [
        {
          "output_type": "stream",
          "name": "stdout",
          "text": [
            "[1,   200] loss: 1.609\n",
            "[1,   400] loss: 1.605\n",
            "[2,   200] loss: 1.595\n",
            "[2,   400] loss: 1.568\n",
            "[3,   200] loss: 1.235\n",
            "[3,   400] loss: 0.861\n",
            "[4,   200] loss: 0.645\n",
            "[4,   400] loss: 0.580\n",
            "[5,   200] loss: 0.548\n",
            "[5,   400] loss: 0.526\n"
          ]
        },
        {
          "output_type": "display_data",
          "data": {
            "text/plain": [
              "<Figure size 360x360 with 6 Axes>"
            ],
            "image/png": "[encoded data removed]"
          },
          "metadata": {
            "needs_background": "light"
          }
        },
        {
          "output_type": "display_data",
          "data": {
            "text/plain": [
              "<Figure size 504x504 with 16 Axes>"
            ],
            "image/png": "[encoded data removed]"
          },
          "metadata": {
            "needs_background": "light"
          }
        },
        {
          "output_type": "display_data",
          "data": {
            "text/plain": [
              "<Figure size 360x288 with 2 Axes>"
            ],
            "image/png": "[encoded data removed]"
          },
          "metadata": {
            "needs_background": "light"
          }
        }
      ]
    }
  ]
}
{
  "nbformat": 4,
  "nbformat_minor": 0,
  "metadata": {
    "colab": {
      "provenance": [],
      "authorship_tag": "ABX9TyMqn0w6dx5p8c4r2y1i567H",
      "include_colab_link": true
    },
    "kernelspec": {
      "name": "python3",
      "display_name": "Python 3"
    },
    "language_info": {
      "name": "python"
    },
    "accelerator": "GPU",
    "gpuClass": "standard"
  },
  "cells": [
    {
      "cell_type": "markdown",
      "metadata": {
        "id": "view-in-github",
        "colab_type": "text"
      },
      "source": [
        "<a href=\"https://colab.research.google.com/github/eriksali/DNN_2023_DL/blob/main/smoothing.ipynb\" target=\"_parent\"><img src=\"https://colab.research.google.com/assets/colab-badge.svg\" alt=\"Open In Colab\"/></a>"
      ]
    },
    {
      "cell_type": "code",
      "execution_count": null,
      "metadata": {
        "id": "t5ytR30D_qTV"
      },
      "outputs": [],
      "source": []
    },
    {
      "cell_type": "code",
      "source": [
        "!unzip -uq \"/content/smoothing.zip\" -d \"/content/\"  "
      ],
      "metadata": {
        "id": "sQXr3BlnAw0U"
      },
      "execution_count": null,
      "outputs": []
    },
    {
      "cell_type": "code",
      "source": [
        "!mkdir models"
      ],
      "metadata": {
        "id": "G1_yZ-c5NLSs"
      },
      "execution_count": null,
      "outputs": []
    },
    {
      "cell_type": "code",
      "source": [
        "!tar -xvf  '/content/models.tar' -C '/content/'"
      ],
      "metadata": {
        "id": "W5HhaKNeMvnC"
      },
      "execution_count": null,
      "outputs": []
    },
    {
      "cell_type": "code",
      "source": [
        "model=\"/content/models/cifar10/resnet110/noise_0.25/checkpoint.pth.tar\"\n",
        "output=\"/content/output.txt\"\n",
        "!python3 /content/smoothing/code/certify.py cifar10 $model 0.25 $output --skip 20 --batch 400"
      ],
      "metadata": {
        "id": "SXQk8ZGJB5G3",
        "colab": {
          "base_uri": "https://localhost:8080/"
        },
        "outputId": "51d568ed-ea82-4b8b-c05a-66029796a010"
      },
      "execution_count": null,
      "outputs": [
        {
          "output_type": "stream",
          "name": "stdout",
          "text": [
            "Files already downloaded and verified\n"
          ]
        }
      ]
    }
  ]
}
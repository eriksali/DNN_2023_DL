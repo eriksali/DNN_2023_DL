{
  "nbformat": 4,
  "nbformat_minor": 0,
  "metadata": {
    "colab": {
      "provenance": [],
      "authorship_tag": "ABX9TyM82ZGipE8G6FPr7OJEdkLH",
      "include_colab_link": true
    },
    "kernelspec": {
      "name": "python3",
      "display_name": "Python 3"
    },
    "language_info": {
      "name": "python"
    }
  },
  "cells": [
    {
      "cell_type": "markdown",
      "metadata": {
        "id": "view-in-github",
        "colab_type": "text"
      },
      "source": [
        "<a href=\"https://colab.research.google.com/github/eriksali/DNN_2023_DL/blob/main/neo4j_protein.ipynb\" target=\"_parent\"><img src=\"https://colab.research.google.com/assets/colab-badge.svg\" alt=\"Open In Colab\"/></a>"
      ]
    },
    {
      "cell_type": "code",
      "execution_count": null,
      "metadata": {
        "id": "iEOQEihwIkKQ"
      },
      "outputs": [],
      "source": []
    },
    {
      "cell_type": "code",
      "source": [
        "!pip install neo4j"
      ],
      "metadata": {
        "colab": {
          "base_uri": "https://localhost:8080/"
        },
        "id": "wy7BnMMzIpL2",
        "outputId": "bf849efe-8cc8-4e1f-93ac-c747ff64d147"
      },
      "execution_count": null,
      "outputs": [
        {
          "output_type": "stream",
          "name": "stdout",
          "text": [
            "Requirement already satisfied: neo4j in /usr/local/lib/python3.10/dist-packages (5.18.0)\n",
            "Requirement already satisfied: pytz in /usr/local/lib/python3.10/dist-packages (from neo4j) (2023.4)\n"
          ]
        }
      ]
    },
    {
      "cell_type": "code",
      "source": [
        "import pandas as pd\n",
        "from neo4j import GraphDatabase\n",
        "\n",
        "# Load the graph data from kg_giant.csv\n",
        "kg = pd.read_csv('kg_giant_protein.csv', low_memory=False)\n",
        "\n",
        "# Define Neo4j connection details\n",
        "uri = \"neo4j+s://05b06d0e.databases.neo4j.io\"\n",
        "username = \"neo4j\"\n",
        "password = \"tsSmaXO6MCkspVXpU5BRIEnwCX7ooGDB4WWyQiageok\"\n",
        "\n",
        "# Connect to Neo4j\n",
        "driver = GraphDatabase.driver(uri, auth=(username, password))\n",
        "\n",
        "\n",
        "# Function to run Cypher queries\n",
        "def run_query(query, params=None):\n",
        "    with driver.session() as session:\n",
        "        if params:\n",
        "            result = session.run(query, parameters=params)\n",
        "        else:\n",
        "            result = session.run(query)\n",
        "        return result\n",
        "\n",
        "# Function to create nodes\n",
        "def create_nodes():\n",
        "    for idx, row in kg.iterrows():\n",
        "        query = (\n",
        "            f\"MERGE (n:{row['x_type']} {{name: $x_name, source: $x_source}}) \"\n",
        "            f\"MERGE (m:{row['y_type']} {{name: $y_name, source: $y_source}})\"\n",
        "        )\n",
        "        params = {\n",
        "            \"x_name\": row['x_name'],\n",
        "            \"x_source\": row['x_source'],\n",
        "            \"y_name\": row['y_name'],\n",
        "            \"y_source\": row['y_source']\n",
        "        }\n",
        "        run_query(query, params=params)\n",
        "\n",
        "# Function to create relationships\n",
        "def create_relationships():\n",
        "    for idx, row in kg.iterrows():\n",
        "        query = (\n",
        "            f\"MATCH (n:{row['x_type']} {{name: $x_name, source: $x_source}}), \"\n",
        "            f\"(m:{row['y_type']} {{name: $y_name, source: $y_source}}) \"\n",
        "            f\"MERGE (n)-[:{row['relation']} {{display_relation: $display_relation}}]->(m)\"\n",
        "        )\n",
        "        params = {\n",
        "            \"x_name\": row['x_name'],\n",
        "            \"x_source\": row['x_source'],\n",
        "            \"y_name\": row['y_name'],\n",
        "            \"y_source\": row['y_source'],\n",
        "            \"display_relation\": row['display_relation']\n",
        "        }\n",
        "        run_query(query, params=params)\n",
        "\n",
        "# Create nodes in Neo4j\n",
        "create_nodes()\n",
        "\n",
        "# Create relationships in Neo4j\n",
        "create_relationships()\n",
        "\n",
        "# Close the Neo4j driver\n",
        "driver.close()\n"
      ],
      "metadata": {
        "id": "rhhOEPyvIpPf"
      },
      "execution_count": null,
      "outputs": []
    }
  ]
}
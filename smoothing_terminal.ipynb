{
  "nbformat": 4,
  "nbformat_minor": 0,
  "metadata": {
    "colab": {
      "provenance": [],
      "authorship_tag": "ABX9TyNzFXtOpSnmvJH2aGZcr1Wc",
      "include_colab_link": true
    },
    "kernelspec": {
      "name": "python3",
      "display_name": "Python 3"
    },
    "language_info": {
      "name": "python"
    },
    "accelerator": "GPU",
    "gpuClass": "standard"
  },
  "cells": [
    {
      "cell_type": "markdown",
      "metadata": {
        "id": "view-in-github",
        "colab_type": "text"
      },
      "source": [
        "<a href=\"https://colab.research.google.com/github/eriksali/DNN_2023_DL/blob/main/smoothing_terminal.ipynb\" target=\"_parent\"><img src=\"https://colab.research.google.com/assets/colab-badge.svg\" alt=\"Open In Colab\"/></a>"
      ]
    },
    {
      "cell_type": "code",
      "execution_count": null,
      "metadata": {
        "id": "t5ytR30D_qTV"
      },
      "outputs": [],
      "source": []
    },
    {
      "cell_type": "code",
      "source": [
        "!unzip -uq \"/content/smoothing.zip\" -d \"/content/\"  "
      ],
      "metadata": {
        "id": "sQXr3BlnAw0U"
      },
      "execution_count": null,
      "outputs": []
    },
    {
      "cell_type": "code",
      "source": [
        "!mkdir models"
      ],
      "metadata": {
        "id": "G1_yZ-c5NLSs"
      },
      "execution_count": 11,
      "outputs": []
    },
    {
      "cell_type": "code",
      "source": [
        "!tar -xvf  '/content/models.tar' -C '/content/'"
      ],
      "metadata": {
        "id": "W5HhaKNeMvnC"
      },
      "execution_count": null,
      "outputs": []
    },
    {
      "cell_type": "code",
      "source": [
        "!pip install colab-xterm\n",
        "%load_ext colabxterm"
      ],
      "metadata": {
        "id": "M5HOJB8PEUwA"
      },
      "execution_count": null,
      "outputs": []
    },
    {
      "cell_type": "code",
      "source": [
        "%xterm"
      ],
      "metadata": {
        "id": "VVSseJAgGNZO"
      },
      "execution_count": null,
      "outputs": []
    },
    {
      "cell_type": "code",
      "source": [
        "model=\"/content/models/cifar10/resnet110/noise_0.25/checkpoint.pth.tar\"\n",
        "output=\"/content/output.csv\"\n",
        "!python3 /content/smoothing/code/certify.py cifar10 $model 0.25 $output --skip 20 --batch 400"
      ],
      "metadata": {
        "id": "SXQk8ZGJB5G3",
        "colab": {
          "base_uri": "https://localhost:8080/"
        },
        "outputId": "70907745-09c0-4374-f63d-9a4002fa766f"
      },
      "execution_count": null,
      "outputs": [
        {
          "output_type": "stream",
          "name": "stdout",
          "text": [
            "Downloading https://www.cs.toronto.edu/~kriz/cifar-10-python.tar.gz to ./dataset_cache/cifar-10-python.tar.gz\n",
            "100% 170498071/170498071 [00:02<00:00, 84914080.41it/s]\n",
            "Extracting ./dataset_cache/cifar-10-python.tar.gz to ./dataset_cache\n"
          ]
        }
      ]
    }
  ]
}
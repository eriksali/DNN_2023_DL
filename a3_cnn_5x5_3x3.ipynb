{
  "nbformat": 4,
  "nbformat_minor": 0,
  "metadata": {
    "colab": {
      "provenance": [],
      "authorship_tag": "ABX9TyMTQcBa2bmbObuV9/52fhcB",
      "include_colab_link": true
    },
    "kernelspec": {
      "name": "python3",
      "display_name": "Python 3"
    },
    "language_info": {
      "name": "python"
    }
  },
  "cells": [
    {
      "cell_type": "markdown",
      "metadata": {
        "id": "view-in-github",
        "colab_type": "text"
      },
      "source": [
        "<a href=\"https://colab.research.google.com/github/eriksali/DNN_2023_DL/blob/main/a3_cnn_5x5_3x3.ipynb\" target=\"_parent\"><img src=\"https://colab.research.google.com/assets/colab-badge.svg\" alt=\"Open In Colab\"/></a>"
      ]
    },
    {
      "cell_type": "code",
      "execution_count": null,
      "metadata": {
        "id": "N1OWmhrYckcK"
      },
      "outputs": [],
      "source": []
    },
    {
      "cell_type": "code",
      "source": [
        "## input image size = 28x28, input channel = 1, \n",
        "## filter size = 5x5, padding=2, conv (6); \n",
        "## 2x2, stride = 2, avgpool; \n",
        "## 5x5, conv (16); \n",
        "## 2x2, stride=2, avgpool;\n",
        "## fc(120, fc(84), fc(5)\n",
        "\n",
        "\n",
        "import torch\n",
        "import torchvision\n",
        "import torchvision.transforms as transforms\n",
        "import torch\n",
        "import torchvision\n",
        "import torchvision.transforms as transforms\n",
        "import numpy as np\n",
        "import matplotlib.pyplot as plt\n",
        "from sklearn.metrics import confusion_matrix\n",
        "\n",
        "# Load the Fashion-MNIST dataset\n",
        "train_dataset = torchvision.datasets.FashionMNIST(root='./data', train=True, download=True, transform=transforms.ToTensor())\n",
        "test_dataset = torchvision.datasets.FashionMNIST(root='./data', train=False, download=True, transform=transforms.ToTensor())\n",
        "\n",
        "# Create data loaders\n",
        "train_loader = torch.utils.data.DataLoader(train_dataset, batch_size=32, shuffle=True)\n",
        "test_loader = torch.utils.data.DataLoader(test_dataset, batch_size=32, shuffle=False)\n",
        "\n",
        "\n",
        "from torchvision import datasets, transforms\n",
        "from torch.utils.data import Subset, DataLoader\n",
        "\n",
        "# Select 5 classes: T-shirt/top, Trouser, Pullover, Dress, Coat\n",
        "selected_classes = [0, 1, 2, 3, 4]\n",
        "\n",
        "##original_dataset = datasets.FashionMNIST(root='./data', train=True, download=True, transform=transforms.ToTensor())\n",
        "\n",
        "# Create a custom subset that contains only the selected classes\n",
        "selected_indices = []\n",
        "for i in range(len(train_dataset)):\n",
        "    _, label = train_dataset[i]\n",
        "    if label in selected_classes:\n",
        "        selected_indices.append(i)\n",
        "\n",
        "selected_train_dataset = Subset(train_dataset, selected_indices)\n",
        "\n",
        "batch_size = 64\n",
        "selected_train_loader = DataLoader(selected_train_dataset, batch_size=batch_size, shuffle=True)\n",
        "\n",
        "##original_testset = datasets.FashionMNIST(root='./data', train=True, download=True, transform=transforms.ToTensor())\n",
        "\n",
        "# Create a custom subset that contains only the selected classes\n",
        "selected_indices = []\n",
        "for i in range(len(test_dataset)):\n",
        "    _, label = test_dataset[i]\n",
        "    if label in selected_classes:\n",
        "        selected_indices.append(i)\n",
        "\n",
        "selected_test_dataset = Subset(test_dataset, selected_indices)\n",
        "import random\n",
        "# Select a random subset of 100 images from the test dataset\n",
        "test_subset_indices = random.sample(range(len(selected_test_dataset)), k=100)\n",
        "test_subset = Subset(selected_test_dataset, test_subset_indices)\n",
        "\n",
        "\n",
        "batch_size = 64\n",
        "selected_test_loader = DataLoader(test_subset, batch_size=batch_size, shuffle=True)\n",
        "\n",
        "# Define function to flip images horizontally or vertically\n",
        "def flip_images(images, mode='horizontal'):\n",
        "    if mode == 'horizontal':\n",
        "        return torch.flip(images, dims=[3])\n",
        "    elif mode == 'vertical':\n",
        "        return torch.flip(images, dims=[2])\n",
        "    else:\n",
        "        raise ValueError(\"Invalid mode\")\n",
        "\n",
        "# Flip test images vertically and measure accuracy\n",
        "test_subset_flipped_vertical = [(flip_images(images, mode='vertical'), labels) for images, labels in test_subset]\n",
        "test_loader_flipped_vertical = torch.utils.data.DataLoader(test_subset_flipped_vertical, batch_size)\n",
        "\n",
        "\n",
        "import torch.nn as nn\n",
        "import torch.nn.functional as F\n",
        "\n",
        "\n",
        "'''class Net(nn.Module):\n",
        "    def __init__(self):\n",
        "        super(Net, self).__init__()\n",
        "        \n",
        "        # Define convolutional layers\n",
        "        self.conv1 = nn.Conv2d(1, 6, 3, padding = 2)  # input_channel=1, output_channel=6, kernel_size=3\n",
        "        self.pool1 = nn.AvgPool2d(2, 2) # kernel_size=2, stride=2\n",
        "        self.conv2 = nn.Conv2d(6, 16, 3) # input_channel=6, output_channel=16, kernel_size=3\n",
        "        self.pool2 = nn.AvgPool2d(2, 2) # kernel_size=2, stride=2\n",
        "        \n",
        "        # Define fully connected layers\n",
        "        self.fc1 = nn.Linear(16 * 5 * 5, 120) # input_size=16*5*5, output_size=120\n",
        "        self.fc2 = nn.Linear(120, 84)         # input_size=120, output_size=84\n",
        "        self.fc3 = nn.Linear(84, 5)           # input_size=84, output_size=4\n",
        "\n",
        "    def forward(self, x):\n",
        "        # Apply convolutional layers with activation functions and pooling layers\n",
        "        x = nn.functional.relu(self.conv1(x))\n",
        "        x = self.pool1(x)\n",
        "        x = nn.functional.relu(self.conv2(x))\n",
        "        x = self.pool2(x)\n",
        "        \n",
        "        # Flatten output from convolutional layers\n",
        "        x = torch.flatten(x, 1)\n",
        "        \n",
        "        # Apply fully connected layers with activation functions\n",
        "        x = nn.functional.relu(self.fc1(x))\n",
        "        x = nn.functional.relu(self.fc2(x))\n",
        "        x = self.fc3(x)\n",
        "        \n",
        "        return x\n",
        "'''\n",
        "\n",
        "import torch.nn as nn\n",
        "\n",
        "'''class Net(nn.Module):\n",
        "    def __init__(self):\n",
        "        super(Net, self).__init__()\n",
        "        \n",
        "        # Convolutional layers\n",
        "        self.conv1 = nn.Conv2d(1, 6, 3, padding=2)\n",
        "        self.pool1 = nn.AvgPool2d(2, stride=2)\n",
        "        self.conv2 = nn.Conv2d(6, 16, 3, padding=1)\n",
        "        self.pool2 = nn.AvgPool2d(2, stride=2)\n",
        "        \n",
        "        # Fully connected layers\n",
        "        self.fc1 = nn.Linear(16 * 7 * 7, 120)\n",
        "        self.fc2 = nn.Linear(120, 84)\n",
        "        self.fc3 = nn.Linear(84, 5)\n",
        "    \n",
        "    def forward(self, x):\n",
        "        # Convolutional layers\n",
        "        x = self.pool1(nn.functional.relu(self.conv1(x)))\n",
        "        x = self.pool2(nn.functional.relu(self.conv2(x)))\n",
        "        \n",
        "        # Flatten output for fully connected layers\n",
        "        x = x.view(-1, 16 * 7 * 7)\n",
        "        \n",
        "        # Fully connected layers\n",
        "        x = nn.functional.relu(self.fc1(x))\n",
        "        x = nn.functional.relu(self.fc2(x))\n",
        "        x = self.fc3(x)\n",
        "        \n",
        "        return x\n",
        "\n",
        "'''\n",
        "class Net(nn.Module):\n",
        "    def __init__(self):\n",
        "        super(Net, self).__init__()\n",
        "        \n",
        "        # Convolutional layers\n",
        "        self.conv1 = nn.Conv2d(in_channels=1, out_channels=6, kernel_size=5, padding=2)\n",
        "        self.pool1 = nn.AvgPool2d(kernel_size=2, stride=2)\n",
        "        self.conv2 = nn.Conv2d(in_channels=6, out_channels=16, kernel_size=5)\n",
        "        self.pool2 = nn.AvgPool2d(kernel_size=2, stride=2)\n",
        "        \n",
        "        # Fully connected layers\n",
        "        self.fc1 = nn.Linear(in_features=16*5*5, out_features=120)\n",
        "        self.fc2 = nn.Linear(in_features=120, out_features=84)\n",
        "        self.fc3 = nn.Linear(in_features=84, out_features=5)\n",
        "        \n",
        "    def forward(self, x):\n",
        "        # Convolutional layers\n",
        "        x = self.conv1(x)\n",
        "        x = torch.relu(x)\n",
        "        x = self.pool1(x)\n",
        "        x = self.conv2(x)\n",
        "        x = torch.relu(x)\n",
        "        x = self.pool2(x)\n",
        "        \n",
        "        # Flatten the output from the convolutional layers\n",
        "        x = x.view(-1, 16*5*5)\n",
        "        \n",
        "        # Fully connected layers\n",
        "        x = self.fc1(x)\n",
        "        x = torch.relu(x)\n",
        "        x = self.fc2(x)\n",
        "        x = torch.relu(x)\n",
        "        x = self.fc3(x)\n",
        "        \n",
        "        return x\n",
        "\n",
        "net = Net()\n",
        "\n",
        "import torch.optim as optim\n",
        "\n",
        "criterion = nn.CrossEntropyLoss()\n",
        "optimizer = optim.SGD(net.parameters(), lr=0.001, momentum=0.9)\n",
        "\n",
        "for epoch in range(5):  # loop over the dataset multiple times\n",
        "\n",
        "    running_loss = 0.0\n",
        "    for i, data in enumerate(selected_train_loader, 0):\n",
        "        inputs, labels = data\n",
        "\n",
        "        optimizer.zero_grad()\n",
        "\n",
        "        outputs = net(inputs)\n",
        "        loss = criterion(outputs, labels)\n",
        "        loss.backward()\n",
        "        optimizer.step()\n",
        "\n",
        "        running_loss += loss.item()\n",
        "        if i % 200 == 199:    # print every 200 mini-batches\n",
        "            print('[%d, %5d] loss: %.3f' %\n",
        "                  (epoch + 1, i + 1, running_loss / 200))\n",
        "            running_loss = 0.0\n",
        "\n",
        "# Extract the weights of the filters in both convolutional layers\n",
        "conv1_weights = net.conv1.weight.detach().clone()\n",
        "conv2_weights = net.conv2.weight.detach().clone()\n",
        "\n",
        "import matplotlib.pyplot as plt\n",
        "\n",
        "# Define the function to extract and visualize the weights of the filters\n",
        "def visualize_filters(net):\n",
        "    conv1_weights = net.conv1.weight.detach().cpu().numpy()\n",
        "    conv2_weights = net.conv2.weight.detach().cpu().numpy()\n",
        "\n",
        "    fig, axs = plt.subplots(2, 3, figsize=(5,5))\n",
        "    fig.suptitle('Conv1 Weights')\n",
        "    for i in range(2):\n",
        "        for j in range(3):\n",
        "            axs[i, j].imshow(conv1_weights[i*3+j][0], cmap='gray')\n",
        "            #axs[i, j].axis('off')\n",
        "\n",
        "    fig, axs = plt.subplots(4, 4, figsize=(7,7))\n",
        "    fig.suptitle('Conv2 Weights')\n",
        "    for i in range(4):\n",
        "        for j in range(4):\n",
        "            axs[i, j].imshow(conv2_weights[i*4+j][0], cmap='gray')\n",
        "            #axs[i, j].axis('off')\n",
        "\n",
        "visualize_filters(net)\n",
        "\n",
        "path = F\"/content/cnn_model_5.pt\" \n",
        "torch.save(net.state_dict(), path)\n",
        "\n",
        "predictions = []\n",
        "true_labels = []\n",
        "with torch.no_grad():\n",
        "    for inputs, labels in test_loader_flipped_vertical:\n",
        "    ##for inputs, labels in selected_test_loader:\n",
        "        outputs = net(inputs)\n",
        "        _, predicted = torch.max(outputs, 1)\n",
        "        predictions.append(predicted)\n",
        "        true_labels.append(labels)\n",
        "\n",
        "predictions = torch.cat(predictions, dim=0)\n",
        "true_labels = torch.cat(true_labels, dim=0)\n",
        "\n",
        "from sklearn.metrics import confusion_matrix\n",
        "import matplotlib.pyplot as plt\n",
        "import seaborn as sns\n",
        "\n",
        "# Generate the confusion matrix\n",
        "cm = confusion_matrix(true_labels, predictions, labels=selected_classes)\n",
        "\n",
        "plt.figure(figsize=(5, 4))\n",
        "#sns.set(font_scale=1.2)\n",
        "sns.heatmap(cm, annot=True, cmap='Blues', fmt='g', xticklabels=selected_classes, yticklabels=selected_classes)\n",
        "plt.xlabel('Predicted Labels')\n",
        "plt.ylabel('True Labels')\n",
        "plt.title('Confusion Matrix')\n",
        "plt.show()\n",
        "\n"
      ],
      "metadata": {
        "id": "6t5C5JCe_vkC",
        "outputId": "2daeb2e8-ffee-4169-91e7-c3e37d2ed703",
        "colab": {
          "base_uri": "https://localhost:8080/",
          "height": 1000
        }
      },
      "execution_count": 25,
      "outputs": [
        {
          "output_type": "stream",
          "name": "stdout",
          "text": [
            "[1,   200] loss: 1.594\n",
            "[1,   400] loss: 1.413\n",
            "[2,   200] loss: 0.770\n",
            "[2,   400] loss: 0.612\n",
            "[3,   200] loss: 0.572\n",
            "[3,   400] loss: 0.552\n",
            "[4,   200] loss: 0.516\n",
            "[4,   400] loss: 0.511\n",
            "[5,   200] loss: 0.491\n",
            "[5,   400] loss: 0.468\n"
          ]
        },
        {
          "output_type": "display_data",
          "data": {
            "text/plain": [
              "<Figure size 360x360 with 6 Axes>"
            ],
            "image/png": "[encoded data removed]"
          },
          "metadata": {
            "needs_background": "light"
          }
        },
        {
          "output_type": "display_data",
          "data": {
            "text/plain": [
              "<Figure size 504x504 with 16 Axes>"
            ],
            "image/png": "[encoded data removed]"
          },
          "metadata": {
            "needs_background": "light"
          }
        },
        {
          "output_type": "display_data",
          "data": {
            "text/plain": [
              "<Figure size 360x288 with 2 Axes>"
            ],
            "image/png": "[encoded data removed]"
          },
          "metadata": {
            "needs_background": "light"
          }
        }
      ]
    },
    {
      "cell_type": "code",
      "source": [
        "from torchinfo import summary\n",
        "\n",
        "model = Net()\n",
        "batch_size = 64\n",
        "summary(model, input_size=(batch_size, 1, 28, 28))"
      ],
      "metadata": {
        "id": "WSpPrJDyBDQh",
        "outputId": "1d1c62ca-4c47-4dc2-8db7-5d875fd7c0cc",
        "colab": {
          "base_uri": "https://localhost:8080/"
        }
      },
      "execution_count": 23,
      "outputs": [
        {
          "output_type": "execute_result",
          "data": {
            "text/plain": [
              "==========================================================================================\n",
              "Layer (type:depth-idx)                   Output Shape              Param #\n",
              "==========================================================================================\n",
              "Net                                      [64, 5]                   --\n",
              "├─Conv2d: 1-1                            [64, 6, 30, 30]           60\n",
              "├─AvgPool2d: 1-2                         [64, 6, 15, 15]           --\n",
              "├─Conv2d: 1-3                            [64, 16, 15, 15]          880\n",
              "├─AvgPool2d: 1-4                         [64, 16, 7, 7]            --\n",
              "├─Linear: 1-5                            [64, 120]                 94,200\n",
              "├─Linear: 1-6                            [64, 84]                  10,164\n",
              "├─Linear: 1-7                            [64, 5]                   425\n",
              "==========================================================================================\n",
              "Total params: 105,729\n",
              "Trainable params: 105,729\n",
              "Non-trainable params: 0\n",
              "Total mult-adds (M): 22.83\n",
              "==========================================================================================\n",
              "Input size (MB): 0.20\n",
              "Forward/backward pass size (MB): 4.72\n",
              "Params size (MB): 0.42\n",
              "Estimated Total Size (MB): 5.34\n",
              "=========================================================================================="
            ]
          },
          "metadata": {},
          "execution_count": 23
        }
      ]
    },
    {
      "cell_type": "code",
      "source": [
        "## input image size = 28x28, input channel = 1, \n",
        "## filter size = 3x3, padding=2, conv (6); \n",
        "## 2x2, stride = 2, avgpool; \n",
        "## 3x3, conv (16); \n",
        "## 2x2, stride=2, avgpool;\n",
        "## fc(120, fc(84), fc(5)\n",
        "\n",
        "\n",
        "import torch\n",
        "import torchvision\n",
        "import torchvision.transforms as transforms\n",
        "import torch\n",
        "import torchvision\n",
        "import torchvision.transforms as transforms\n",
        "import numpy as np\n",
        "import matplotlib.pyplot as plt\n",
        "from sklearn.metrics import confusion_matrix\n",
        "\n",
        "# Load the Fashion-MNIST dataset\n",
        "train_dataset = torchvision.datasets.FashionMNIST(root='./data', train=True, download=True, transform=transforms.ToTensor())\n",
        "test_dataset = torchvision.datasets.FashionMNIST(root='./data', train=False, download=True, transform=transforms.ToTensor())\n",
        "\n",
        "# Create data loaders\n",
        "train_loader = torch.utils.data.DataLoader(train_dataset, batch_size=32, shuffle=True)\n",
        "test_loader = torch.utils.data.DataLoader(test_dataset, batch_size=32, shuffle=False)\n",
        "\n",
        "\n",
        "from torchvision import datasets, transforms\n",
        "from torch.utils.data import Subset, DataLoader\n",
        "\n",
        "# Select 5 classes: T-shirt/top, Trouser, Pullover, Dress, Coat\n",
        "selected_classes = [0, 1, 2, 3, 4]\n",
        "\n",
        "##original_dataset = datasets.FashionMNIST(root='./data', train=True, download=True, transform=transforms.ToTensor())\n",
        "\n",
        "# Create a custom subset that contains only the selected classes\n",
        "selected_indices = []\n",
        "for i in range(len(train_dataset)):\n",
        "    _, label = train_dataset[i]\n",
        "    if label in selected_classes:\n",
        "        selected_indices.append(i)\n",
        "\n",
        "selected_train_dataset = Subset(train_dataset, selected_indices)\n",
        "\n",
        "batch_size = 64\n",
        "selected_train_loader = DataLoader(selected_train_dataset, batch_size=batch_size, shuffle=True)\n",
        "\n",
        "##original_testset = datasets.FashionMNIST(root='./data', train=True, download=True, transform=transforms.ToTensor())\n",
        "\n",
        "# Create a custom subset that contains only the selected classes\n",
        "selected_indices = []\n",
        "for i in range(len(test_dataset)):\n",
        "    _, label = test_dataset[i]\n",
        "    if label in selected_classes:\n",
        "        selected_indices.append(i)\n",
        "\n",
        "selected_test_dataset = Subset(test_dataset, selected_indices)\n",
        "import random\n",
        "# Select a random subset of 100 images from the test dataset\n",
        "test_subset_indices = random.sample(range(len(selected_test_dataset)), k=100)\n",
        "test_subset = Subset(selected_test_dataset, test_subset_indices)\n",
        "\n",
        "\n",
        "batch_size = 64\n",
        "selected_test_loader = DataLoader(test_subset, batch_size=batch_size, shuffle=True)\n",
        "\n",
        "# Define function to flip images horizontally or vertically\n",
        "def flip_images(images, mode='horizontal'):\n",
        "    if mode == 'horizontal':\n",
        "        return torch.flip(images, dims=[3])\n",
        "    elif mode == 'vertical':\n",
        "        return torch.flip(images, dims=[2])\n",
        "    else:\n",
        "        raise ValueError(\"Invalid mode\")\n",
        "\n",
        "# Flip test images vertically and measure accuracy\n",
        "test_subset_flipped_vertical = [(flip_images(images, mode='vertical'), labels) for images, labels in test_subset]\n",
        "test_loader_flipped_vertical = torch.utils.data.DataLoader(test_subset_flipped_vertical, batch_size)\n",
        "\n",
        "\n",
        "import torch.nn as nn\n",
        "import torch.nn.functional as F\n",
        "\n",
        "\n",
        "import torch.nn as nn\n",
        "\n",
        "import torch.nn as nn\n",
        "\n",
        "class Net(nn.Module):\n",
        "    def __init__(self):\n",
        "        super(Net, self).__init__()\n",
        "        \n",
        "        self.conv1 = nn.Conv2d(in_channels=1, out_channels=6, kernel_size=3, padding=2)\n",
        "        self.pool = nn.AvgPool2d(kernel_size=2, stride=2)\n",
        "        self.conv2 = nn.Conv2d(in_channels=6, out_channels=16, kernel_size=3, padding=1)\n",
        "        self.fc1 = nn.Linear(in_features=16 * 7 * 7, out_features=120)\n",
        "        self.fc2 = nn.Linear(in_features=120, out_features=84)\n",
        "        self.fc3 = nn.Linear(in_features=84, out_features=5)\n",
        "\n",
        "    def forward(self, x):\n",
        "        x = self.pool(nn.functional.relu(self.conv1(x)))\n",
        "        x = self.pool(nn.functional.relu(self.conv2(x)))\n",
        "        x = x.view(-1, 16 * 7 * 7)\n",
        "        x = nn.functional.relu(self.fc1(x))\n",
        "        x = nn.functional.relu(self.fc2(x))\n",
        "        x = self.fc3(x)\n",
        "        return x\n",
        "\n",
        "\n",
        "net = Net()\n",
        "\n",
        "import torch.optim as optim\n",
        "\n",
        "criterion = nn.CrossEntropyLoss()\n",
        "optimizer = optim.SGD(net.parameters(), lr=0.001, momentum=0.9)\n",
        "\n",
        "for epoch in range(5):  # loop over the dataset multiple times\n",
        "\n",
        "    running_loss = 0.0\n",
        "    for i, data in enumerate(selected_train_loader, 0):\n",
        "        inputs, labels = data\n",
        "\n",
        "        optimizer.zero_grad()\n",
        "\n",
        "        outputs = net(inputs)\n",
        "        loss = criterion(outputs, labels)\n",
        "        loss.backward()\n",
        "        optimizer.step()\n",
        "\n",
        "        running_loss += loss.item()\n",
        "        if i % 200 == 199:    # print every 200 mini-batches\n",
        "            print('[%d, %5d] loss: %.3f' %\n",
        "                  (epoch + 1, i + 1, running_loss / 200))\n",
        "            running_loss = 0.0\n",
        "\n",
        "# Extract the weights of the filters in both convolutional layers\n",
        "conv1_weights = net.conv1.weight.detach().clone()\n",
        "conv2_weights = net.conv2.weight.detach().clone()\n",
        "\n",
        "import matplotlib.pyplot as plt\n",
        "\n",
        "# Define the function to extract and visualize the weights of the filters\n",
        "def visualize_filters(net):\n",
        "    conv1_weights = net.conv1.weight.detach().cpu().numpy()\n",
        "    conv2_weights = net.conv2.weight.detach().cpu().numpy()\n",
        "\n",
        "    fig, axs = plt.subplots(2, 3, figsize=(5,5))\n",
        "    fig.suptitle('Conv1 Weights')\n",
        "    for i in range(2):\n",
        "        for j in range(3):\n",
        "            axs[i, j].imshow(conv1_weights[i*3+j][0], cmap='gray')\n",
        "            #axs[i, j].axis('off')\n",
        "\n",
        "    fig, axs = plt.subplots(4, 4, figsize=(7,7))\n",
        "    fig.suptitle('Conv2 Weights')\n",
        "    for i in range(4):\n",
        "        for j in range(4):\n",
        "            axs[i, j].imshow(conv2_weights[i*4+j][0], cmap='gray')\n",
        "            #axs[i, j].axis('off')\n",
        "\n",
        "visualize_filters(net)\n",
        "\n",
        "path = F\"/content/cnn_model_5.pt\" \n",
        "torch.save(net.state_dict(), path)\n",
        "\n",
        "predictions = []\n",
        "true_labels = []\n",
        "with torch.no_grad():\n",
        "    for inputs, labels in test_loader_flipped_vertical:\n",
        "    ##for inputs, labels in selected_test_loader:\n",
        "        outputs = net(inputs)\n",
        "        _, predicted = torch.max(outputs, 1)\n",
        "        predictions.append(predicted)\n",
        "        true_labels.append(labels)\n",
        "\n",
        "predictions = torch.cat(predictions, dim=0)\n",
        "true_labels = torch.cat(true_labels, dim=0)\n",
        "\n",
        "from sklearn.metrics import confusion_matrix\n",
        "import matplotlib.pyplot as plt\n",
        "import seaborn as sns\n",
        "\n",
        "# Generate the confusion matrix\n",
        "cm = confusion_matrix(true_labels, predictions, labels=selected_classes)\n",
        "\n",
        "plt.figure(figsize=(5, 4))\n",
        "#sns.set(font_scale=1.2)\n",
        "sns.heatmap(cm, annot=True, cmap='Blues', fmt='g', xticklabels=selected_classes, yticklabels=selected_classes)\n",
        "plt.xlabel('Predicted Labels')\n",
        "plt.ylabel('True Labels')\n",
        "plt.title('Confusion Matrix')\n",
        "plt.show()\n",
        "\n"
      ],
      "metadata": {
        "colab": {
          "base_uri": "https://localhost:8080/",
          "height": 1000
        },
        "id": "JoIZxHKSclIl",
        "outputId": "64a0f072-2ab6-4832-ca23-d83acaacec91"
      },
      "execution_count": 28,
      "outputs": [
        {
          "output_type": "stream",
          "name": "stdout",
          "text": [
            "[1,   200] loss: 1.610\n",
            "[1,   400] loss: 1.604\n",
            "[2,   200] loss: 1.587\n",
            "[2,   400] loss: 1.508\n",
            "[3,   200] loss: 0.890\n",
            "[3,   400] loss: 0.618\n",
            "[4,   200] loss: 0.514\n",
            "[4,   400] loss: 0.492\n",
            "[5,   200] loss: 0.466\n",
            "[5,   400] loss: 0.459\n"
          ]
        },
        {
          "output_type": "display_data",
          "data": {
            "text/plain": [
              "<Figure size 360x360 with 6 Axes>"
            ],
            "image/png": "[encoded data removed]"
          },
          "metadata": {
            "needs_background": "light"
          }
        },
        {
          "output_type": "display_data",
          "data": {
            "text/plain": [
              "<Figure size 504x504 with 16 Axes>"
            ],
            "image/png": "[encoded data removed]"
          },
          "metadata": {
            "needs_background": "light"
          }
        },
        {
          "output_type": "display_data",
          "data": {
            "text/plain": [
              "<Figure size 360x288 with 2 Axes>"
            ],
            "image/png": "[encoded data removed]"
          },
          "metadata": {
            "needs_background": "light"
          }
        }
      ]
    },
    {
      "cell_type": "code",
      "source": [
        "from torchinfo import summary\n",
        "\n",
        "model = Net()\n",
        "batch_size = 64\n",
        "summary(model, input_size=(batch_size, 1, 28, 28))"
      ],
      "metadata": {
        "id": "UU_CXx8E-878",
        "outputId": "68c289b9-88b2-4985-e6da-b9e1fa2b314e",
        "colab": {
          "base_uri": "https://localhost:8080/"
        }
      },
      "execution_count": 29,
      "outputs": [
        {
          "output_type": "execute_result",
          "data": {
            "text/plain": [
              "==========================================================================================\n",
              "Layer (type:depth-idx)                   Output Shape              Param #\n",
              "==========================================================================================\n",
              "Net                                      [64, 5]                   --\n",
              "├─Conv2d: 1-1                            [64, 6, 30, 30]           60\n",
              "├─AvgPool2d: 1-2                         [64, 6, 15, 15]           --\n",
              "├─Conv2d: 1-3                            [64, 16, 15, 15]          880\n",
              "├─AvgPool2d: 1-4                         [64, 16, 7, 7]            --\n",
              "├─Linear: 1-5                            [64, 120]                 94,200\n",
              "├─Linear: 1-6                            [64, 84]                  10,164\n",
              "├─Linear: 1-7                            [64, 5]                   425\n",
              "==========================================================================================\n",
              "Total params: 105,729\n",
              "Trainable params: 105,729\n",
              "Non-trainable params: 0\n",
              "Total mult-adds (M): 22.83\n",
              "==========================================================================================\n",
              "Input size (MB): 0.20\n",
              "Forward/backward pass size (MB): 4.72\n",
              "Params size (MB): 0.42\n",
              "Estimated Total Size (MB): 5.34\n",
              "=========================================================================================="
            ]
          },
          "metadata": {},
          "execution_count": 29
        }
      ]
    },
    {
      "cell_type": "code",
      "source": [],
      "metadata": {
        "id": "uHpZEfnsEktu"
      },
      "execution_count": null,
      "outputs": []
    },
    {
      "cell_type": "code",
      "source": [
        "from torchinfo import summary\n",
        "\n",
        "model = Net()\n",
        "batch_size = 64\n",
        "summary(model, input_size=(batch_size, 1, 28, 28))"
      ],
      "metadata": {
        "colab": {
          "base_uri": "https://localhost:8080/"
        },
        "id": "J3nhx5Un60XO",
        "outputId": "1d91bfc6-a57c-4d3e-a4e0-bf2207d7c2da"
      },
      "execution_count": 18,
      "outputs": [
        {
          "output_type": "execute_result",
          "data": {
            "text/plain": [
              "==========================================================================================\n",
              "Layer (type:depth-idx)                   Output Shape              Param #\n",
              "==========================================================================================\n",
              "Net                                      [64, 5]                   --\n",
              "├─Conv2d: 1-1                            [64, 6, 30, 30]           60\n",
              "├─AvgPool2d: 1-2                         [64, 6, 15, 15]           --\n",
              "├─Conv2d: 1-3                            [64, 16, 15, 15]          880\n",
              "├─AvgPool2d: 1-4                         [64, 16, 7, 7]            --\n",
              "├─Linear: 1-5                            [64, 120]                 94,200\n",
              "├─Linear: 1-6                            [64, 84]                  10,164\n",
              "├─Linear: 1-7                            [64, 5]                   425\n",
              "==========================================================================================\n",
              "Total params: 105,729\n",
              "Trainable params: 105,729\n",
              "Non-trainable params: 0\n",
              "Total mult-adds (M): 22.83\n",
              "==========================================================================================\n",
              "Input size (MB): 0.20\n",
              "Forward/backward pass size (MB): 4.72\n",
              "Params size (MB): 0.42\n",
              "Estimated Total Size (MB): 5.34\n",
              "=========================================================================================="
            ]
          },
          "metadata": {},
          "execution_count": 18
        }
      ]
    },
    {
      "cell_type": "code",
      "source": [],
      "metadata": {
        "id": "CkOGkqcb-69q"
      },
      "execution_count": null,
      "outputs": []
    },
    {
      "cell_type": "code",
      "source": [
        "from torchinfo import summary\n",
        "\n",
        "model = ConvNet()\n",
        "batch_size = 16\n",
        "summary(model, input_size=(batch_size, 1, 28, 28))"
      ],
      "metadata": {
        "colab": {
          "base_uri": "https://localhost:8080/"
        },
        "id": "E0TrEP5x334o",
        "outputId": "404005ef-b0a8-4fd8-884c-2dcf18d22056"
      },
      "execution_count": 14,
      "outputs": [
        {
          "output_type": "execute_result",
          "data": {
            "text/plain": [
              "==========================================================================================\n",
              "Layer (type:depth-idx)                   Output Shape              Param #\n",
              "==========================================================================================\n",
              "Net                                      [16, 5]                   --\n",
              "├─Conv2d: 1-1                            [16, 6, 26, 26]           60\n",
              "├─AvgPool2d: 1-2                         [16, 6, 13, 13]           --\n",
              "├─Conv2d: 1-3                            [16, 16, 11, 11]          880\n",
              "├─AvgPool2d: 1-4                         [16, 16, 5, 5]            --\n",
              "├─Linear: 1-5                            [16, 120]                 48,120\n",
              "├─Linear: 1-6                            [16, 84]                  10,164\n",
              "├─Linear: 1-7                            [16, 5]                   425\n",
              "==========================================================================================\n",
              "Total params: 59,649\n",
              "Trainable params: 59,649\n",
              "Non-trainable params: 0\n",
              "Total mult-adds (M): 3.29\n",
              "==========================================================================================\n",
              "Input size (MB): 0.05\n",
              "Forward/backward pass size (MB): 0.79\n",
              "Params size (MB): 0.24\n",
              "Estimated Total Size (MB): 1.08\n",
              "=========================================================================================="
            ]
          },
          "metadata": {},
          "execution_count": 14
        }
      ]
    },
    {
      "cell_type": "code",
      "source": [
        "from torchinfo import summary\n",
        "\n",
        "model = Net()\n",
        "batch_size = 64\n",
        "summary(model, input_size=(batch_size, 1, 28, 28))"
      ],
      "metadata": {
        "colab": {
          "base_uri": "https://localhost:8080/"
        },
        "id": "IyiQGdjW4TT_",
        "outputId": "39bc5f2c-1cbf-424c-8f53-8f65071f721c"
      },
      "execution_count": 15,
      "outputs": [
        {
          "output_type": "execute_result",
          "data": {
            "text/plain": [
              "==========================================================================================\n",
              "Layer (type:depth-idx)                   Output Shape              Param #\n",
              "==========================================================================================\n",
              "Net                                      [64, 5]                   --\n",
              "├─Conv2d: 1-1                            [64, 6, 26, 26]           60\n",
              "├─AvgPool2d: 1-2                         [64, 6, 13, 13]           --\n",
              "├─Conv2d: 1-3                            [64, 16, 11, 11]          880\n",
              "├─AvgPool2d: 1-4                         [64, 16, 5, 5]            --\n",
              "├─Linear: 1-5                            [64, 120]                 48,120\n",
              "├─Linear: 1-6                            [64, 84]                  10,164\n",
              "├─Linear: 1-7                            [64, 5]                   425\n",
              "==========================================================================================\n",
              "Total params: 59,649\n",
              "Trainable params: 59,649\n",
              "Non-trainable params: 0\n",
              "Total mult-adds (M): 13.17\n",
              "==========================================================================================\n",
              "Input size (MB): 0.20\n",
              "Forward/backward pass size (MB): 3.17\n",
              "Params size (MB): 0.24\n",
              "Estimated Total Size (MB): 3.61\n",
              "=========================================================================================="
            ]
          },
          "metadata": {},
          "execution_count": 15
        }
      ]
    },
    {
      "cell_type": "code",
      "source": [
        "from torchsummary import summary\n",
        "\n",
        "#model = ConvNet()\n",
        "batch_size = 64\n",
        "summary(net, input_size=(batch_size, 1, 28, 28))"
      ],
      "metadata": {
        "colab": {
          "base_uri": "https://localhost:8080/",
          "height": 353
        },
        "id": "wdn9zrSj24xx",
        "outputId": "5c709b3e-c25e-4d8f-d9dc-1aac0689a775"
      },
      "execution_count": 12,
      "outputs": [
        {
          "output_type": "error",
          "ename": "RuntimeError",
          "evalue": "ignored",
          "traceback": [
            "\u001b[0;31m---------------------------------------------------------------------------\u001b[0m",
            "\u001b[0;31mRuntimeError\u001b[0m                              Traceback (most recent call last)",
            "\u001b[0;32m<ipython-input-12-1ba2399fd858>\u001b[0m in \u001b[0;36m<module>\u001b[0;34m\u001b[0m\n\u001b[1;32m      3\u001b[0m \u001b[0;31m#model = ConvNet()\u001b[0m\u001b[0;34m\u001b[0m\u001b[0;34m\u001b[0m\u001b[0;34m\u001b[0m\u001b[0m\n\u001b[1;32m      4\u001b[0m \u001b[0mbatch_size\u001b[0m \u001b[0;34m=\u001b[0m \u001b[0;36m64\u001b[0m\u001b[0;34m\u001b[0m\u001b[0;34m\u001b[0m\u001b[0m\n\u001b[0;32m----> 5\u001b[0;31m \u001b[0msummary\u001b[0m\u001b[0;34m(\u001b[0m\u001b[0mnet\u001b[0m\u001b[0;34m,\u001b[0m \u001b[0minput_size\u001b[0m\u001b[0;34m=\u001b[0m\u001b[0;34m(\u001b[0m\u001b[0mbatch_size\u001b[0m\u001b[0;34m,\u001b[0m \u001b[0;36m1\u001b[0m\u001b[0;34m,\u001b[0m \u001b[0;36m28\u001b[0m\u001b[0;34m,\u001b[0m \u001b[0;36m28\u001b[0m\u001b[0;34m)\u001b[0m\u001b[0;34m)\u001b[0m\u001b[0;34m\u001b[0m\u001b[0;34m\u001b[0m\u001b[0m\n\u001b[0m",
            "\u001b[0;32m/usr/local/lib/python3.8/dist-packages/torchsummary/torchsummary.py\u001b[0m in \u001b[0;36msummary\u001b[0;34m(model, input_size, batch_size, device)\u001b[0m\n\u001b[1;32m     70\u001b[0m     \u001b[0;31m# make a forward pass\u001b[0m\u001b[0;34m\u001b[0m\u001b[0;34m\u001b[0m\u001b[0;34m\u001b[0m\u001b[0m\n\u001b[1;32m     71\u001b[0m     \u001b[0;31m# print(x.shape)\u001b[0m\u001b[0;34m\u001b[0m\u001b[0;34m\u001b[0m\u001b[0;34m\u001b[0m\u001b[0m\n\u001b[0;32m---> 72\u001b[0;31m     \u001b[0mmodel\u001b[0m\u001b[0;34m(\u001b[0m\u001b[0;34m*\u001b[0m\u001b[0mx\u001b[0m\u001b[0;34m)\u001b[0m\u001b[0;34m\u001b[0m\u001b[0;34m\u001b[0m\u001b[0m\n\u001b[0m\u001b[1;32m     73\u001b[0m \u001b[0;34m\u001b[0m\u001b[0m\n\u001b[1;32m     74\u001b[0m     \u001b[0;31m# remove these hooks\u001b[0m\u001b[0;34m\u001b[0m\u001b[0;34m\u001b[0m\u001b[0;34m\u001b[0m\u001b[0m\n",
            "\u001b[0;32m/usr/local/lib/python3.8/dist-packages/torch/nn/modules/module.py\u001b[0m in \u001b[0;36m_call_impl\u001b[0;34m(self, *input, **kwargs)\u001b[0m\n\u001b[1;32m   1192\u001b[0m         if not (self._backward_hooks or self._forward_hooks or self._forward_pre_hooks or _global_backward_hooks\n\u001b[1;32m   1193\u001b[0m                 or _global_forward_hooks or _global_forward_pre_hooks):\n\u001b[0;32m-> 1194\u001b[0;31m             \u001b[0;32mreturn\u001b[0m \u001b[0mforward_call\u001b[0m\u001b[0;34m(\u001b[0m\u001b[0;34m*\u001b[0m\u001b[0minput\u001b[0m\u001b[0;34m,\u001b[0m \u001b[0;34m**\u001b[0m\u001b[0mkwargs\u001b[0m\u001b[0;34m)\u001b[0m\u001b[0;34m\u001b[0m\u001b[0;34m\u001b[0m\u001b[0m\n\u001b[0m\u001b[1;32m   1195\u001b[0m         \u001b[0;31m# Do not call functions when jit is used\u001b[0m\u001b[0;34m\u001b[0m\u001b[0;34m\u001b[0m\u001b[0;34m\u001b[0m\u001b[0m\n\u001b[1;32m   1196\u001b[0m         \u001b[0mfull_backward_hooks\u001b[0m\u001b[0;34m,\u001b[0m \u001b[0mnon_full_backward_hooks\u001b[0m \u001b[0;34m=\u001b[0m \u001b[0;34m[\u001b[0m\u001b[0;34m]\u001b[0m\u001b[0;34m,\u001b[0m \u001b[0;34m[\u001b[0m\u001b[0;34m]\u001b[0m\u001b[0;34m\u001b[0m\u001b[0;34m\u001b[0m\u001b[0m\n",
            "\u001b[0;32m<ipython-input-11-7186f56aa566>\u001b[0m in \u001b[0;36mforward\u001b[0;34m(self, x)\u001b[0m\n\u001b[1;32m     92\u001b[0m     \u001b[0;32mdef\u001b[0m \u001b[0mforward\u001b[0m\u001b[0;34m(\u001b[0m\u001b[0mself\u001b[0m\u001b[0;34m,\u001b[0m \u001b[0mx\u001b[0m\u001b[0;34m)\u001b[0m\u001b[0;34m:\u001b[0m\u001b[0;34m\u001b[0m\u001b[0;34m\u001b[0m\u001b[0m\n\u001b[1;32m     93\u001b[0m         \u001b[0;31m# Apply convolutional layers with activation functions and pooling layers\u001b[0m\u001b[0;34m\u001b[0m\u001b[0;34m\u001b[0m\u001b[0;34m\u001b[0m\u001b[0m\n\u001b[0;32m---> 94\u001b[0;31m         \u001b[0mx\u001b[0m \u001b[0;34m=\u001b[0m \u001b[0mnn\u001b[0m\u001b[0;34m.\u001b[0m\u001b[0mfunctional\u001b[0m\u001b[0;34m.\u001b[0m\u001b[0mrelu\u001b[0m\u001b[0;34m(\u001b[0m\u001b[0mself\u001b[0m\u001b[0;34m.\u001b[0m\u001b[0mconv1\u001b[0m\u001b[0;34m(\u001b[0m\u001b[0mx\u001b[0m\u001b[0;34m)\u001b[0m\u001b[0;34m)\u001b[0m\u001b[0;34m\u001b[0m\u001b[0;34m\u001b[0m\u001b[0m\n\u001b[0m\u001b[1;32m     95\u001b[0m         \u001b[0mx\u001b[0m \u001b[0;34m=\u001b[0m \u001b[0mself\u001b[0m\u001b[0;34m.\u001b[0m\u001b[0mpool1\u001b[0m\u001b[0;34m(\u001b[0m\u001b[0mx\u001b[0m\u001b[0;34m)\u001b[0m\u001b[0;34m\u001b[0m\u001b[0;34m\u001b[0m\u001b[0m\n\u001b[1;32m     96\u001b[0m         \u001b[0mx\u001b[0m \u001b[0;34m=\u001b[0m \u001b[0mnn\u001b[0m\u001b[0;34m.\u001b[0m\u001b[0mfunctional\u001b[0m\u001b[0;34m.\u001b[0m\u001b[0mrelu\u001b[0m\u001b[0;34m(\u001b[0m\u001b[0mself\u001b[0m\u001b[0;34m.\u001b[0m\u001b[0mconv2\u001b[0m\u001b[0;34m(\u001b[0m\u001b[0mx\u001b[0m\u001b[0;34m)\u001b[0m\u001b[0;34m)\u001b[0m\u001b[0;34m\u001b[0m\u001b[0;34m\u001b[0m\u001b[0m\n",
            "\u001b[0;32m/usr/local/lib/python3.8/dist-packages/torch/nn/modules/module.py\u001b[0m in \u001b[0;36m_call_impl\u001b[0;34m(self, *input, **kwargs)\u001b[0m\n\u001b[1;32m   1210\u001b[0m             \u001b[0minput\u001b[0m \u001b[0;34m=\u001b[0m \u001b[0mbw_hook\u001b[0m\u001b[0;34m.\u001b[0m\u001b[0msetup_input_hook\u001b[0m\u001b[0;34m(\u001b[0m\u001b[0minput\u001b[0m\u001b[0;34m)\u001b[0m\u001b[0;34m\u001b[0m\u001b[0;34m\u001b[0m\u001b[0m\n\u001b[1;32m   1211\u001b[0m \u001b[0;34m\u001b[0m\u001b[0m\n\u001b[0;32m-> 1212\u001b[0;31m         \u001b[0mresult\u001b[0m \u001b[0;34m=\u001b[0m \u001b[0mforward_call\u001b[0m\u001b[0;34m(\u001b[0m\u001b[0;34m*\u001b[0m\u001b[0minput\u001b[0m\u001b[0;34m,\u001b[0m \u001b[0;34m**\u001b[0m\u001b[0mkwargs\u001b[0m\u001b[0;34m)\u001b[0m\u001b[0;34m\u001b[0m\u001b[0;34m\u001b[0m\u001b[0m\n\u001b[0m\u001b[1;32m   1213\u001b[0m         \u001b[0;32mif\u001b[0m \u001b[0m_global_forward_hooks\u001b[0m \u001b[0;32mor\u001b[0m \u001b[0mself\u001b[0m\u001b[0;34m.\u001b[0m\u001b[0m_forward_hooks\u001b[0m\u001b[0;34m:\u001b[0m\u001b[0;34m\u001b[0m\u001b[0;34m\u001b[0m\u001b[0m\n\u001b[1;32m   1214\u001b[0m             \u001b[0;32mfor\u001b[0m \u001b[0mhook\u001b[0m \u001b[0;32min\u001b[0m \u001b[0;34m(\u001b[0m\u001b[0;34m*\u001b[0m\u001b[0m_global_forward_hooks\u001b[0m\u001b[0;34m.\u001b[0m\u001b[0mvalues\u001b[0m\u001b[0;34m(\u001b[0m\u001b[0;34m)\u001b[0m\u001b[0;34m,\u001b[0m \u001b[0;34m*\u001b[0m\u001b[0mself\u001b[0m\u001b[0;34m.\u001b[0m\u001b[0m_forward_hooks\u001b[0m\u001b[0;34m.\u001b[0m\u001b[0mvalues\u001b[0m\u001b[0;34m(\u001b[0m\u001b[0;34m)\u001b[0m\u001b[0;34m)\u001b[0m\u001b[0;34m:\u001b[0m\u001b[0;34m\u001b[0m\u001b[0;34m\u001b[0m\u001b[0m\n",
            "\u001b[0;32m/usr/local/lib/python3.8/dist-packages/torch/nn/modules/conv.py\u001b[0m in \u001b[0;36mforward\u001b[0;34m(self, input)\u001b[0m\n\u001b[1;32m    461\u001b[0m \u001b[0;34m\u001b[0m\u001b[0m\n\u001b[1;32m    462\u001b[0m     \u001b[0;32mdef\u001b[0m \u001b[0mforward\u001b[0m\u001b[0;34m(\u001b[0m\u001b[0mself\u001b[0m\u001b[0;34m,\u001b[0m \u001b[0minput\u001b[0m\u001b[0;34m:\u001b[0m \u001b[0mTensor\u001b[0m\u001b[0;34m)\u001b[0m \u001b[0;34m->\u001b[0m \u001b[0mTensor\u001b[0m\u001b[0;34m:\u001b[0m\u001b[0;34m\u001b[0m\u001b[0;34m\u001b[0m\u001b[0m\n\u001b[0;32m--> 463\u001b[0;31m         \u001b[0;32mreturn\u001b[0m \u001b[0mself\u001b[0m\u001b[0;34m.\u001b[0m\u001b[0m_conv_forward\u001b[0m\u001b[0;34m(\u001b[0m\u001b[0minput\u001b[0m\u001b[0;34m,\u001b[0m \u001b[0mself\u001b[0m\u001b[0;34m.\u001b[0m\u001b[0mweight\u001b[0m\u001b[0;34m,\u001b[0m \u001b[0mself\u001b[0m\u001b[0;34m.\u001b[0m\u001b[0mbias\u001b[0m\u001b[0;34m)\u001b[0m\u001b[0;34m\u001b[0m\u001b[0;34m\u001b[0m\u001b[0m\n\u001b[0m\u001b[1;32m    464\u001b[0m \u001b[0;34m\u001b[0m\u001b[0m\n\u001b[1;32m    465\u001b[0m \u001b[0;32mclass\u001b[0m \u001b[0mConv3d\u001b[0m\u001b[0;34m(\u001b[0m\u001b[0m_ConvNd\u001b[0m\u001b[0;34m)\u001b[0m\u001b[0;34m:\u001b[0m\u001b[0;34m\u001b[0m\u001b[0;34m\u001b[0m\u001b[0m\n",
            "\u001b[0;32m/usr/local/lib/python3.8/dist-packages/torch/nn/modules/conv.py\u001b[0m in \u001b[0;36m_conv_forward\u001b[0;34m(self, input, weight, bias)\u001b[0m\n\u001b[1;32m    457\u001b[0m                             \u001b[0mweight\u001b[0m\u001b[0;34m,\u001b[0m \u001b[0mbias\u001b[0m\u001b[0;34m,\u001b[0m \u001b[0mself\u001b[0m\u001b[0;34m.\u001b[0m\u001b[0mstride\u001b[0m\u001b[0;34m,\u001b[0m\u001b[0;34m\u001b[0m\u001b[0;34m\u001b[0m\u001b[0m\n\u001b[1;32m    458\u001b[0m                             _pair(0), self.dilation, self.groups)\n\u001b[0;32m--> 459\u001b[0;31m         return F.conv2d(input, weight, bias, self.stride,\n\u001b[0m\u001b[1;32m    460\u001b[0m                         self.padding, self.dilation, self.groups)\n\u001b[1;32m    461\u001b[0m \u001b[0;34m\u001b[0m\u001b[0m\n",
            "\u001b[0;31mRuntimeError\u001b[0m: Expected 3D (unbatched) or 4D (batched) input to conv2d, but got input of size: [2, 64, 1, 28, 28]"
          ]
        }
      ]
    },
    {
      "cell_type": "code",
      "source": [],
      "metadata": {
        "id": "jOCzoz3r09b0"
      },
      "execution_count": null,
      "outputs": []
    }
  ]
}